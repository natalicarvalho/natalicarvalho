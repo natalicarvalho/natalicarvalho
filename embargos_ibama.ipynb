{
  "nbformat": 4,
  "nbformat_minor": 0,
  "metadata": {
    "colab": {
      "provenance": [],
      "authorship_tag": "ABX9TyNy74uOKSUPo5d1Aa//mblJ",
      "include_colab_link": true
    },
    "kernelspec": {
      "name": "python3",
      "display_name": "Python 3"
    },
    "language_info": {
      "name": "python"
    }
  },
  "cells": [
    {
      "cell_type": "markdown",
      "metadata": {
        "id": "view-in-github",
        "colab_type": "text"
      },
      "source": [
        "<a href=\"https://colab.research.google.com/github/natalicarvalho/natalicarvalho/blob/master/embargos_ibama.ipynb\" target=\"_parent\"><img src=\"https://colab.research.google.com/assets/colab-badge.svg\" alt=\"Open In Colab\"/></a>"
      ]
    },
    {
      "cell_type": "markdown",
      "source": [
        "# **Natali Lima de Carvalho**"
      ],
      "metadata": {
        "id": "Z3fJftkEpVJi"
      }
    },
    {
      "cell_type": "code",
      "execution_count": 17,
      "metadata": {
        "id": "93bne2mmQ-R8"
      },
      "outputs": [],
      "source": [
        "import requests"
      ]
    },
    {
      "cell_type": "code",
      "source": [
        "URL = \"https://servicos.ibama.gov.br/ctf/publico/areasembargadas/arquivos/areas_embargadas.csv\""
      ],
      "metadata": {
        "id": "DSeY69F5RGq8"
      },
      "execution_count": 18,
      "outputs": []
    },
    {
      "cell_type": "code",
      "source": [
        "#baixar e salvar o csv\n",
        "r = requests.get(URL, verify=False)\n",
        "\n",
        "#salvando\n",
        "with open(\"areas_embargadas.csv\", \"wb\") as f:\n",
        "    f.write(r.content)"
      ],
      "metadata": {
        "colab": {
          "base_uri": "https://localhost:8080/"
        },
        "id": "aaR5ZT_BRNho",
        "outputId": "95f8a35c-9855-4414-bdbc-2e66938ee10c"
      },
      "execution_count": 19,
      "outputs": [
        {
          "output_type": "stream",
          "name": "stderr",
          "text": [
            "/usr/local/lib/python3.8/dist-packages/urllib3/connectionpool.py:842: InsecureRequestWarning: Unverified HTTPS request is being made. Adding certificate verification is strongly advised. See: https://urllib3.readthedocs.io/en/latest/advanced-usage.html#ssl-warnings\n",
            "  warnings.warn((\n"
          ]
        }
      ]
    },
    {
      "cell_type": "code",
      "source": [
        "#abrindo o arquivo .csv com o pandas\n",
        "import pandas as pd\n",
        "df = pd.read_csv(\"areas_embargadas.csv\")"
      ],
      "metadata": {
        "id": "MUGxfsDuRZ-2"
      },
      "execution_count": 20,
      "outputs": []
    },
    {
      "cell_type": "code",
      "source": [
        "# visualizando 5 exemplos aleatorios\n",
        "df.sample(5)"
      ],
      "metadata": {
        "colab": {
          "base_uri": "https://localhost:8080/",
          "height": 525
        },
        "id": "YZvns3LyRfVF",
        "outputId": "09cd499d-b902-444c-e492-31e3cb7615cb"
      },
      "execution_count": 21,
      "outputs": [
        {
          "output_type": "execute_result",
          "data": {
            "text/plain": [
              "         Nº TAD SERIE TAD  Área (ha)    Nº A.I.  \\\n",
              "32549    449769         C        NaN     367163   \n",
              "64625    737851         E        NaN  9127971.0   \n",
              "2705   I3EIYRK0       NaN        NaN   C788UUC2   \n",
              "18513    270221         C        NaN     264221   \n",
              "69124    784017         E        NaN    9199442   \n",
              "\n",
              "                                  Nome ou Razão Social         CPF ou CNPJ  \\\n",
              "32549  Jorge Luiz Cardoso - Me (Carpintaria São Jorge)  13.822.929/0001-48   \n",
              "64625                           Regis Augusto da Silva      552.365.531-72   \n",
              "2705                                 Joaquim Fernandes      150.140.048-79   \n",
              "18513                               Antônio José Belon      260.456.138-72   \n",
              "69124                             Paulo Cesar de Assis      098.869.216-33   \n",
              "\n",
              "                                   Localização do Imóvel UF Infração  \\\n",
              "32549      R. DO COMÉRCIO S/Nº_ITAMARATI_IBIRAPITANGA/BA          BA   \n",
              "64625   Lagoa Formosa, Lote 1362, Chácaras Santa Mari...          GO   \n",
              "2705                                Sítio São Francisco           SP   \n",
              "18513                  PARCELA DO LOTEAMENTO PORTO VELHO          SP   \n",
              "69124  Rua Benedita Neves de Oliveira, 380, casa; JD....          SP   \n",
              "\n",
              "         Município Infração      Município Infrator  ... Propriedade  \\\n",
              "32549          Ibirapitanga         Ibirapitanga/BA  ...         NaN   \n",
              "64625            Planaltina             Brasília/DF  ...         NaN   \n",
              "2705   São José do Barreiro  São José dos Campos/SP  ...         NaN   \n",
              "18513   Santa Clara D'Oeste                Jales/SP  ...         NaN   \n",
              "69124              Campinas    Engenheiro Coelho/SP  ...         NaN   \n",
              "\n",
              "      Desmatamento      CPF/CNPJ                                     Status  \\\n",
              "32549            N  1.382293e+13                   Inscrito na dívida ativa   \n",
              "64625            N  5.523655e+10  Análise admis/mérito de impugnação/defesa   \n",
              "2705           NaN  1.501400e+10                                    Lavrado   \n",
              "18513            D  2.604561e+10                  Quitado. Baixa automática   \n",
              "69124            N  9.886922e+09                                   Ajuizado   \n",
              "\n",
              "      Data alteração   Latitude  Longitude Operação     GEO           Bioma  \n",
              "32549     28/12/2006        NaN        NaN      NaN     NaN             NaN  \n",
              "64625     30/08/2018 -15.424167 -47.550278      NaN  4326.0         Cerrado  \n",
              "2705             NaN        NaN        NaN      NaN     NaN  Mata Atlantica  \n",
              "18513     27/08/2007 -20.020111 -50.908278      NaN  4326.0             NaN  \n",
              "69124     08/03/2019 -23.007500 -47.145000      NaN  4326.0  Mata Atlantica  \n",
              "\n",
              "[5 rows x 28 columns]"
            ],
            "text/html": [
              "\n",
              "  <div id=\"df-ecdb4ee0-2093-4c0e-b25f-7952fb555123\">\n",
              "    <div class=\"colab-df-container\">\n",
              "      <div>\n",
              "<style scoped>\n",
              "    .dataframe tbody tr th:only-of-type {\n",
              "        vertical-align: middle;\n",
              "    }\n",
              "\n",
              "    .dataframe tbody tr th {\n",
              "        vertical-align: top;\n",
              "    }\n",
              "\n",
              "    .dataframe thead th {\n",
              "        text-align: right;\n",
              "    }\n",
              "</style>\n",
              "<table border=\"1\" class=\"dataframe\">\n",
              "  <thead>\n",
              "    <tr style=\"text-align: right;\">\n",
              "      <th></th>\n",
              "      <th>Nº TAD</th>\n",
              "      <th>SERIE TAD</th>\n",
              "      <th>Área (ha)</th>\n",
              "      <th>Nº A.I.</th>\n",
              "      <th>Nome ou Razão Social</th>\n",
              "      <th>CPF ou CNPJ</th>\n",
              "      <th>Localização do Imóvel</th>\n",
              "      <th>UF Infração</th>\n",
              "      <th>Município Infração</th>\n",
              "      <th>Município Infrator</th>\n",
              "      <th>...</th>\n",
              "      <th>Propriedade</th>\n",
              "      <th>Desmatamento</th>\n",
              "      <th>CPF/CNPJ</th>\n",
              "      <th>Status</th>\n",
              "      <th>Data alteração</th>\n",
              "      <th>Latitude</th>\n",
              "      <th>Longitude</th>\n",
              "      <th>Operação</th>\n",
              "      <th>GEO</th>\n",
              "      <th>Bioma</th>\n",
              "    </tr>\n",
              "  </thead>\n",
              "  <tbody>\n",
              "    <tr>\n",
              "      <th>32549</th>\n",
              "      <td>449769</td>\n",
              "      <td>C</td>\n",
              "      <td>NaN</td>\n",
              "      <td>367163</td>\n",
              "      <td>Jorge Luiz Cardoso - Me (Carpintaria São Jorge)</td>\n",
              "      <td>13.822.929/0001-48</td>\n",
              "      <td>R. DO COMÉRCIO S/Nº_ITAMARATI_IBIRAPITANGA/BA</td>\n",
              "      <td>BA</td>\n",
              "      <td>Ibirapitanga</td>\n",
              "      <td>Ibirapitanga/BA</td>\n",
              "      <td>...</td>\n",
              "      <td>NaN</td>\n",
              "      <td>N</td>\n",
              "      <td>1.382293e+13</td>\n",
              "      <td>Inscrito na dívida ativa</td>\n",
              "      <td>28/12/2006</td>\n",
              "      <td>NaN</td>\n",
              "      <td>NaN</td>\n",
              "      <td>NaN</td>\n",
              "      <td>NaN</td>\n",
              "      <td>NaN</td>\n",
              "    </tr>\n",
              "    <tr>\n",
              "      <th>64625</th>\n",
              "      <td>737851</td>\n",
              "      <td>E</td>\n",
              "      <td>NaN</td>\n",
              "      <td>9127971.0</td>\n",
              "      <td>Regis Augusto da Silva</td>\n",
              "      <td>552.365.531-72</td>\n",
              "      <td>Lagoa Formosa, Lote 1362, Chácaras Santa Mari...</td>\n",
              "      <td>GO</td>\n",
              "      <td>Planaltina</td>\n",
              "      <td>Brasília/DF</td>\n",
              "      <td>...</td>\n",
              "      <td>NaN</td>\n",
              "      <td>N</td>\n",
              "      <td>5.523655e+10</td>\n",
              "      <td>Análise admis/mérito de impugnação/defesa</td>\n",
              "      <td>30/08/2018</td>\n",
              "      <td>-15.424167</td>\n",
              "      <td>-47.550278</td>\n",
              "      <td>NaN</td>\n",
              "      <td>4326.0</td>\n",
              "      <td>Cerrado</td>\n",
              "    </tr>\n",
              "    <tr>\n",
              "      <th>2705</th>\n",
              "      <td>I3EIYRK0</td>\n",
              "      <td>NaN</td>\n",
              "      <td>NaN</td>\n",
              "      <td>C788UUC2</td>\n",
              "      <td>Joaquim Fernandes</td>\n",
              "      <td>150.140.048-79</td>\n",
              "      <td>Sítio São Francisco</td>\n",
              "      <td>SP</td>\n",
              "      <td>São José do Barreiro</td>\n",
              "      <td>São José dos Campos/SP</td>\n",
              "      <td>...</td>\n",
              "      <td>NaN</td>\n",
              "      <td>NaN</td>\n",
              "      <td>1.501400e+10</td>\n",
              "      <td>Lavrado</td>\n",
              "      <td>NaN</td>\n",
              "      <td>NaN</td>\n",
              "      <td>NaN</td>\n",
              "      <td>NaN</td>\n",
              "      <td>NaN</td>\n",
              "      <td>Mata Atlantica</td>\n",
              "    </tr>\n",
              "    <tr>\n",
              "      <th>18513</th>\n",
              "      <td>270221</td>\n",
              "      <td>C</td>\n",
              "      <td>NaN</td>\n",
              "      <td>264221</td>\n",
              "      <td>Antônio José Belon</td>\n",
              "      <td>260.456.138-72</td>\n",
              "      <td>PARCELA DO LOTEAMENTO PORTO VELHO</td>\n",
              "      <td>SP</td>\n",
              "      <td>Santa Clara D'Oeste</td>\n",
              "      <td>Jales/SP</td>\n",
              "      <td>...</td>\n",
              "      <td>NaN</td>\n",
              "      <td>D</td>\n",
              "      <td>2.604561e+10</td>\n",
              "      <td>Quitado. Baixa automática</td>\n",
              "      <td>27/08/2007</td>\n",
              "      <td>-20.020111</td>\n",
              "      <td>-50.908278</td>\n",
              "      <td>NaN</td>\n",
              "      <td>4326.0</td>\n",
              "      <td>NaN</td>\n",
              "    </tr>\n",
              "    <tr>\n",
              "      <th>69124</th>\n",
              "      <td>784017</td>\n",
              "      <td>E</td>\n",
              "      <td>NaN</td>\n",
              "      <td>9199442</td>\n",
              "      <td>Paulo Cesar de Assis</td>\n",
              "      <td>098.869.216-33</td>\n",
              "      <td>Rua Benedita Neves de Oliveira, 380, casa; JD....</td>\n",
              "      <td>SP</td>\n",
              "      <td>Campinas</td>\n",
              "      <td>Engenheiro Coelho/SP</td>\n",
              "      <td>...</td>\n",
              "      <td>NaN</td>\n",
              "      <td>N</td>\n",
              "      <td>9.886922e+09</td>\n",
              "      <td>Ajuizado</td>\n",
              "      <td>08/03/2019</td>\n",
              "      <td>-23.007500</td>\n",
              "      <td>-47.145000</td>\n",
              "      <td>NaN</td>\n",
              "      <td>4326.0</td>\n",
              "      <td>Mata Atlantica</td>\n",
              "    </tr>\n",
              "  </tbody>\n",
              "</table>\n",
              "<p>5 rows × 28 columns</p>\n",
              "</div>\n",
              "      <button class=\"colab-df-convert\" onclick=\"convertToInteractive('df-ecdb4ee0-2093-4c0e-b25f-7952fb555123')\"\n",
              "              title=\"Convert this dataframe to an interactive table.\"\n",
              "              style=\"display:none;\">\n",
              "        \n",
              "  <svg xmlns=\"http://www.w3.org/2000/svg\" height=\"24px\"viewBox=\"0 0 24 24\"\n",
              "       width=\"24px\">\n",
              "    <path d=\"M0 0h24v24H0V0z\" fill=\"none\"/>\n",
              "    <path d=\"M18.56 5.44l.94 2.06.94-2.06 2.06-.94-2.06-.94-.94-2.06-.94 2.06-2.06.94zm-11 1L8.5 8.5l.94-2.06 2.06-.94-2.06-.94L8.5 2.5l-.94 2.06-2.06.94zm10 10l.94 2.06.94-2.06 2.06-.94-2.06-.94-.94-2.06-.94 2.06-2.06.94z\"/><path d=\"M17.41 7.96l-1.37-1.37c-.4-.4-.92-.59-1.43-.59-.52 0-1.04.2-1.43.59L10.3 9.45l-7.72 7.72c-.78.78-.78 2.05 0 2.83L4 21.41c.39.39.9.59 1.41.59.51 0 1.02-.2 1.41-.59l7.78-7.78 2.81-2.81c.8-.78.8-2.07 0-2.86zM5.41 20L4 18.59l7.72-7.72 1.47 1.35L5.41 20z\"/>\n",
              "  </svg>\n",
              "      </button>\n",
              "      \n",
              "  <style>\n",
              "    .colab-df-container {\n",
              "      display:flex;\n",
              "      flex-wrap:wrap;\n",
              "      gap: 12px;\n",
              "    }\n",
              "\n",
              "    .colab-df-convert {\n",
              "      background-color: #E8F0FE;\n",
              "      border: none;\n",
              "      border-radius: 50%;\n",
              "      cursor: pointer;\n",
              "      display: none;\n",
              "      fill: #1967D2;\n",
              "      height: 32px;\n",
              "      padding: 0 0 0 0;\n",
              "      width: 32px;\n",
              "    }\n",
              "\n",
              "    .colab-df-convert:hover {\n",
              "      background-color: #E2EBFA;\n",
              "      box-shadow: 0px 1px 2px rgba(60, 64, 67, 0.3), 0px 1px 3px 1px rgba(60, 64, 67, 0.15);\n",
              "      fill: #174EA6;\n",
              "    }\n",
              "\n",
              "    [theme=dark] .colab-df-convert {\n",
              "      background-color: #3B4455;\n",
              "      fill: #D2E3FC;\n",
              "    }\n",
              "\n",
              "    [theme=dark] .colab-df-convert:hover {\n",
              "      background-color: #434B5C;\n",
              "      box-shadow: 0px 1px 3px 1px rgba(0, 0, 0, 0.15);\n",
              "      filter: drop-shadow(0px 1px 2px rgba(0, 0, 0, 0.3));\n",
              "      fill: #FFFFFF;\n",
              "    }\n",
              "  </style>\n",
              "\n",
              "      <script>\n",
              "        const buttonEl =\n",
              "          document.querySelector('#df-ecdb4ee0-2093-4c0e-b25f-7952fb555123 button.colab-df-convert');\n",
              "        buttonEl.style.display =\n",
              "          google.colab.kernel.accessAllowed ? 'block' : 'none';\n",
              "\n",
              "        async function convertToInteractive(key) {\n",
              "          const element = document.querySelector('#df-ecdb4ee0-2093-4c0e-b25f-7952fb555123');\n",
              "          const dataTable =\n",
              "            await google.colab.kernel.invokeFunction('convertToInteractive',\n",
              "                                                     [key], {});\n",
              "          if (!dataTable) return;\n",
              "\n",
              "          const docLinkHtml = 'Like what you see? Visit the ' +\n",
              "            '<a target=\"_blank\" href=https://colab.research.google.com/notebooks/data_table.ipynb>data table notebook</a>'\n",
              "            + ' to learn more about interactive tables.';\n",
              "          element.innerHTML = '';\n",
              "          dataTable['output_type'] = 'display_data';\n",
              "          await google.colab.output.renderOutput(dataTable, element);\n",
              "          const docLink = document.createElement('div');\n",
              "          docLink.innerHTML = docLinkHtml;\n",
              "          element.appendChild(docLink);\n",
              "        }\n",
              "      </script>\n",
              "    </div>\n",
              "  </div>\n",
              "  "
            ]
          },
          "metadata": {},
          "execution_count": 21
        }
      ]
    },
    {
      "cell_type": "markdown",
      "source": [
        "**Ordenando datas**"
      ],
      "metadata": {
        "id": "Z7jQhcyybw0H"
      }
    },
    {
      "cell_type": "code",
      "source": [
        "# Retirar nulos apenas na coluna 'Data de Inserção na Lista'\n",
        "novos_dados = df.dropna(subset=['Data de Inserção na Lista'])"
      ],
      "metadata": {
        "id": "qBq_1iUH61uW"
      },
      "execution_count": 22,
      "outputs": []
    },
    {
      "cell_type": "code",
      "source": [
        "# transformar apenas a coluna 'Data de Inserção na Lista' em formato datetime\n",
        "novos_dados['Data de Inserção na Lista'] = pd.to_datetime(novos_dados['Data de Inserção na Lista'])"
      ],
      "metadata": {
        "colab": {
          "base_uri": "https://localhost:8080/"
        },
        "id": "WuNAudU669SN",
        "outputId": "32981039-9053-46cd-da4e-071e51b93c5f"
      },
      "execution_count": 23,
      "outputs": [
        {
          "output_type": "stream",
          "name": "stderr",
          "text": [
            "<ipython-input-23-64a6c23c3260>:2: SettingWithCopyWarning: \n",
            "A value is trying to be set on a copy of a slice from a DataFrame.\n",
            "Try using .loc[row_indexer,col_indexer] = value instead\n",
            "\n",
            "See the caveats in the documentation: https://pandas.pydata.org/pandas-docs/stable/user_guide/indexing.html#returning-a-view-versus-a-copy\n",
            "  novos_dados['Data de Inserção na Lista'] = pd.to_datetime(novos_dados['Data de Inserção na Lista'])\n"
          ]
        }
      ]
    },
    {
      "cell_type": "code",
      "source": [
        "#ordenar a coluna 'Data de Inserção na Lista' \n",
        "dados_ordenados = novos_dados.sort_values(by='Data de Inserção na Lista', ascending=False)"
      ],
      "metadata": {
        "id": "7U8o9a4r7APa"
      },
      "execution_count": 24,
      "outputs": []
    },
    {
      "cell_type": "code",
      "source": [
        "#mostra apenas a coluna 'Data de Inserção na Lista' na tela\n",
        "dados_ordenados['Data de Inserção na Lista']"
      ],
      "metadata": {
        "colab": {
          "base_uri": "https://localhost:8080/"
        },
        "id": "keuIH-nU7DgW",
        "outputId": "c3bdab8d-a61a-4423-c878-928fd5f7760a"
      },
      "execution_count": 25,
      "outputs": [
        {
          "output_type": "execute_result",
          "data": {
            "text/plain": [
              "75061   2022-12-11\n",
              "76573   2022-12-11\n",
              "75318   2022-12-11\n",
              "78715   2022-12-11\n",
              "74030   2022-12-11\n",
              "           ...    \n",
              "17889   2005-01-12\n",
              "21243   2005-01-12\n",
              "30695   2005-01-12\n",
              "28165   2005-01-12\n",
              "21602   2005-01-12\n",
              "Name: Data de Inserção na Lista, Length: 77139, dtype: datetime64[ns]"
            ]
          },
          "metadata": {},
          "execution_count": 25
        }
      ]
    },
    {
      "cell_type": "code",
      "source": [
        "# Mostrar todas as colunas\n",
        "dados_ordenados"
      ],
      "metadata": {
        "colab": {
          "base_uri": "https://localhost:8080/",
          "height": 922
        },
        "id": "H8dPRREfn6ZA",
        "outputId": "67419bff-b652-4c38-aa34-27ffc6dcdd85"
      },
      "execution_count": 26,
      "outputs": [
        {
          "output_type": "execute_result",
          "data": {
            "text/plain": [
              "         Nº TAD SERIE TAD  Área (ha)   Nº A.I.           Nome ou Razão Social  \\\n",
              "75061  AZJRJ9WR       NaN        NaN  78LCIG9I         Vicente Gomes Patrício   \n",
              "76573  IFVU22TM       NaN       1.44  HE8BOOKV   Cleison do Nascimento Alves    \n",
              "75318  C6MX4Z9O       NaN        NaN  ROYQ3PKE  Conrado Bandeira de Oliveira    \n",
              "78715  T6RQRRIU       NaN       0.27  TQVV1N7V        Johann Homonnai Júnior    \n",
              "74030  5SM2C888       NaN       1.15  CD70VFHV         Eulálio Sotero Galvão    \n",
              "...         ...       ...        ...       ...                            ...   \n",
              "17889    246714         C     142.00    222039          Marcio Pedro de Souza   \n",
              "21243    330077         C        NaN    410172           Gilson Pereira Bueno   \n",
              "30695    438128         C       1.00    472088          Jair Storchi Pegorini   \n",
              "28165    409380         C      50.00    499406               Anderson Antonio   \n",
              "21602    333091         C        NaN    411318           Sergio Oliveira Dias   \n",
              "\n",
              "          CPF ou CNPJ                              Localização do Imóvel  \\\n",
              "75061  125.723.906-63                                       Sítio Vieira   \n",
              "76573  917.870.253-49                                        Sítio Pará    \n",
              "75318  430.832.776-87  Fazenda Varginha - Serra do Anastácio- Zona Ru...   \n",
              "78715  274.816.893-34                                        Sítio Pará    \n",
              "74030  339.355.053-53                                  Serra dos Matoes    \n",
              "...               ...                                                ...   \n",
              "17889  012.888.731-15                      Fazenda Rio Verde dos Pilões.   \n",
              "21243  847.701.981-91                     Margem esquerda do Rio Cuiabá.   \n",
              "30695  618.098.100-00                  Margem esquerda do Rio vila Nova.   \n",
              "28165  389.179.202-68                            Terra Indígena Massaco.   \n",
              "21602  524.275.951-87                                                NaN   \n",
              "\n",
              "      UF Infração     Município Infração  Município Infrator  ... Propriedade  \\\n",
              "75061          PA                  Baião            Baião/PA  ...         NaN   \n",
              "76573          CE        Viçosa do Ceará  Viçosa do Ceará/CE  ...         NaN   \n",
              "75318          MG                Berizal          Berizal/MG  ...         NaN   \n",
              "78715          CE        Viçosa do Ceará  Viçosa do Ceará/CE  ...         NaN   \n",
              "74030          PI               Pedro Ii         Pedro Ii/PI  ...         NaN   \n",
              "...           ...                    ...                 ...  ...         ...   \n",
              "17889          GO               Mineiros         Mineiros/GO  ...         NaN   \n",
              "21243          MT       Barão de Melgaço           Cuiabá/MT  ...         NaN   \n",
              "30695          AP                Santana           Macapá/AP  ...         NaN   \n",
              "28165          RO  Alta Floresta D'Oeste   Rolim de Moura/RO  ...         NaN   \n",
              "21602          DF               Brasília         Brasília/DF  ...         NaN   \n",
              "\n",
              "      Desmatamento      CPF/CNPJ                            Status  \\\n",
              "75061            D  1.257239e+10  Para homologação/prazo de defesa   \n",
              "76573            D  9.178703e+10  Para homologação/prazo de defesa   \n",
              "75318            D  4.308328e+10  Para homologação/prazo de defesa   \n",
              "78715            D  2.748169e+10  Para homologação/prazo de defesa   \n",
              "74030            D  3.393551e+10  Para homologação/prazo de defesa   \n",
              "...            ...           ...                               ...   \n",
              "17889            D  1.288873e+09          Inscrito na dívida ativa   \n",
              "21243            N  8.477020e+10         Quitado. Baixa automática   \n",
              "30695            N  6.180981e+10         Quitado. Baixa automática   \n",
              "28165            D  3.891792e+10   Análise admis/mérito do recurso   \n",
              "21602            N  5.242760e+10              Em cobrança judicial   \n",
              "\n",
              "      Data alteração   Latitude  Longitude Operação     GEO     Bioma  \n",
              "75061     12/11/2022  -3.243889 -49.798056      NaN  4326.0       NaN  \n",
              "76573     12/11/2022  -3.547786 -41.133325      NaN  4326.0       NaN  \n",
              "75318     12/11/2022 -10.708611 -41.777778      NaN  4326.0       NaN  \n",
              "78715     12/11/2022  -3.546986 -41.131858      NaN  4326.0       NaN  \n",
              "74030     12/11/2022  -4.394681 -41.452153      NaN  4326.0       NaN  \n",
              "...              ...        ...        ...      ...     ...       ...  \n",
              "17889     04/04/2020 -17.716944 -52.297222      NaN  4326.0       NaN  \n",
              "21243     05/04/2020 -16.478889 -56.193056      NaN  4326.0  Pantanal  \n",
              "30695     05/04/2020  -0.018611 -51.436389      NaN  4326.0       NaN  \n",
              "28165     28/09/2021 -12.272222 -62.450278      NaN  4326.0       NaN  \n",
              "21602     28/06/2018   0.000000   0.000000      NaN     NaN       NaN  \n",
              "\n",
              "[77139 rows x 28 columns]"
            ],
            "text/html": [
              "\n",
              "  <div id=\"df-4be2c0b0-32e5-4790-a6d9-d086fa391465\">\n",
              "    <div class=\"colab-df-container\">\n",
              "      <div>\n",
              "<style scoped>\n",
              "    .dataframe tbody tr th:only-of-type {\n",
              "        vertical-align: middle;\n",
              "    }\n",
              "\n",
              "    .dataframe tbody tr th {\n",
              "        vertical-align: top;\n",
              "    }\n",
              "\n",
              "    .dataframe thead th {\n",
              "        text-align: right;\n",
              "    }\n",
              "</style>\n",
              "<table border=\"1\" class=\"dataframe\">\n",
              "  <thead>\n",
              "    <tr style=\"text-align: right;\">\n",
              "      <th></th>\n",
              "      <th>Nº TAD</th>\n",
              "      <th>SERIE TAD</th>\n",
              "      <th>Área (ha)</th>\n",
              "      <th>Nº A.I.</th>\n",
              "      <th>Nome ou Razão Social</th>\n",
              "      <th>CPF ou CNPJ</th>\n",
              "      <th>Localização do Imóvel</th>\n",
              "      <th>UF Infração</th>\n",
              "      <th>Município Infração</th>\n",
              "      <th>Município Infrator</th>\n",
              "      <th>...</th>\n",
              "      <th>Propriedade</th>\n",
              "      <th>Desmatamento</th>\n",
              "      <th>CPF/CNPJ</th>\n",
              "      <th>Status</th>\n",
              "      <th>Data alteração</th>\n",
              "      <th>Latitude</th>\n",
              "      <th>Longitude</th>\n",
              "      <th>Operação</th>\n",
              "      <th>GEO</th>\n",
              "      <th>Bioma</th>\n",
              "    </tr>\n",
              "  </thead>\n",
              "  <tbody>\n",
              "    <tr>\n",
              "      <th>75061</th>\n",
              "      <td>AZJRJ9WR</td>\n",
              "      <td>NaN</td>\n",
              "      <td>NaN</td>\n",
              "      <td>78LCIG9I</td>\n",
              "      <td>Vicente Gomes Patrício</td>\n",
              "      <td>125.723.906-63</td>\n",
              "      <td>Sítio Vieira</td>\n",
              "      <td>PA</td>\n",
              "      <td>Baião</td>\n",
              "      <td>Baião/PA</td>\n",
              "      <td>...</td>\n",
              "      <td>NaN</td>\n",
              "      <td>D</td>\n",
              "      <td>1.257239e+10</td>\n",
              "      <td>Para homologação/prazo de defesa</td>\n",
              "      <td>12/11/2022</td>\n",
              "      <td>-3.243889</td>\n",
              "      <td>-49.798056</td>\n",
              "      <td>NaN</td>\n",
              "      <td>4326.0</td>\n",
              "      <td>NaN</td>\n",
              "    </tr>\n",
              "    <tr>\n",
              "      <th>76573</th>\n",
              "      <td>IFVU22TM</td>\n",
              "      <td>NaN</td>\n",
              "      <td>1.44</td>\n",
              "      <td>HE8BOOKV</td>\n",
              "      <td>Cleison do Nascimento Alves</td>\n",
              "      <td>917.870.253-49</td>\n",
              "      <td>Sítio Pará</td>\n",
              "      <td>CE</td>\n",
              "      <td>Viçosa do Ceará</td>\n",
              "      <td>Viçosa do Ceará/CE</td>\n",
              "      <td>...</td>\n",
              "      <td>NaN</td>\n",
              "      <td>D</td>\n",
              "      <td>9.178703e+10</td>\n",
              "      <td>Para homologação/prazo de defesa</td>\n",
              "      <td>12/11/2022</td>\n",
              "      <td>-3.547786</td>\n",
              "      <td>-41.133325</td>\n",
              "      <td>NaN</td>\n",
              "      <td>4326.0</td>\n",
              "      <td>NaN</td>\n",
              "    </tr>\n",
              "    <tr>\n",
              "      <th>75318</th>\n",
              "      <td>C6MX4Z9O</td>\n",
              "      <td>NaN</td>\n",
              "      <td>NaN</td>\n",
              "      <td>ROYQ3PKE</td>\n",
              "      <td>Conrado Bandeira de Oliveira</td>\n",
              "      <td>430.832.776-87</td>\n",
              "      <td>Fazenda Varginha - Serra do Anastácio- Zona Ru...</td>\n",
              "      <td>MG</td>\n",
              "      <td>Berizal</td>\n",
              "      <td>Berizal/MG</td>\n",
              "      <td>...</td>\n",
              "      <td>NaN</td>\n",
              "      <td>D</td>\n",
              "      <td>4.308328e+10</td>\n",
              "      <td>Para homologação/prazo de defesa</td>\n",
              "      <td>12/11/2022</td>\n",
              "      <td>-10.708611</td>\n",
              "      <td>-41.777778</td>\n",
              "      <td>NaN</td>\n",
              "      <td>4326.0</td>\n",
              "      <td>NaN</td>\n",
              "    </tr>\n",
              "    <tr>\n",
              "      <th>78715</th>\n",
              "      <td>T6RQRRIU</td>\n",
              "      <td>NaN</td>\n",
              "      <td>0.27</td>\n",
              "      <td>TQVV1N7V</td>\n",
              "      <td>Johann Homonnai Júnior</td>\n",
              "      <td>274.816.893-34</td>\n",
              "      <td>Sítio Pará</td>\n",
              "      <td>CE</td>\n",
              "      <td>Viçosa do Ceará</td>\n",
              "      <td>Viçosa do Ceará/CE</td>\n",
              "      <td>...</td>\n",
              "      <td>NaN</td>\n",
              "      <td>D</td>\n",
              "      <td>2.748169e+10</td>\n",
              "      <td>Para homologação/prazo de defesa</td>\n",
              "      <td>12/11/2022</td>\n",
              "      <td>-3.546986</td>\n",
              "      <td>-41.131858</td>\n",
              "      <td>NaN</td>\n",
              "      <td>4326.0</td>\n",
              "      <td>NaN</td>\n",
              "    </tr>\n",
              "    <tr>\n",
              "      <th>74030</th>\n",
              "      <td>5SM2C888</td>\n",
              "      <td>NaN</td>\n",
              "      <td>1.15</td>\n",
              "      <td>CD70VFHV</td>\n",
              "      <td>Eulálio Sotero Galvão</td>\n",
              "      <td>339.355.053-53</td>\n",
              "      <td>Serra dos Matoes</td>\n",
              "      <td>PI</td>\n",
              "      <td>Pedro Ii</td>\n",
              "      <td>Pedro Ii/PI</td>\n",
              "      <td>...</td>\n",
              "      <td>NaN</td>\n",
              "      <td>D</td>\n",
              "      <td>3.393551e+10</td>\n",
              "      <td>Para homologação/prazo de defesa</td>\n",
              "      <td>12/11/2022</td>\n",
              "      <td>-4.394681</td>\n",
              "      <td>-41.452153</td>\n",
              "      <td>NaN</td>\n",
              "      <td>4326.0</td>\n",
              "      <td>NaN</td>\n",
              "    </tr>\n",
              "    <tr>\n",
              "      <th>...</th>\n",
              "      <td>...</td>\n",
              "      <td>...</td>\n",
              "      <td>...</td>\n",
              "      <td>...</td>\n",
              "      <td>...</td>\n",
              "      <td>...</td>\n",
              "      <td>...</td>\n",
              "      <td>...</td>\n",
              "      <td>...</td>\n",
              "      <td>...</td>\n",
              "      <td>...</td>\n",
              "      <td>...</td>\n",
              "      <td>...</td>\n",
              "      <td>...</td>\n",
              "      <td>...</td>\n",
              "      <td>...</td>\n",
              "      <td>...</td>\n",
              "      <td>...</td>\n",
              "      <td>...</td>\n",
              "      <td>...</td>\n",
              "      <td>...</td>\n",
              "    </tr>\n",
              "    <tr>\n",
              "      <th>17889</th>\n",
              "      <td>246714</td>\n",
              "      <td>C</td>\n",
              "      <td>142.00</td>\n",
              "      <td>222039</td>\n",
              "      <td>Marcio Pedro de Souza</td>\n",
              "      <td>012.888.731-15</td>\n",
              "      <td>Fazenda Rio Verde dos Pilões.</td>\n",
              "      <td>GO</td>\n",
              "      <td>Mineiros</td>\n",
              "      <td>Mineiros/GO</td>\n",
              "      <td>...</td>\n",
              "      <td>NaN</td>\n",
              "      <td>D</td>\n",
              "      <td>1.288873e+09</td>\n",
              "      <td>Inscrito na dívida ativa</td>\n",
              "      <td>04/04/2020</td>\n",
              "      <td>-17.716944</td>\n",
              "      <td>-52.297222</td>\n",
              "      <td>NaN</td>\n",
              "      <td>4326.0</td>\n",
              "      <td>NaN</td>\n",
              "    </tr>\n",
              "    <tr>\n",
              "      <th>21243</th>\n",
              "      <td>330077</td>\n",
              "      <td>C</td>\n",
              "      <td>NaN</td>\n",
              "      <td>410172</td>\n",
              "      <td>Gilson Pereira Bueno</td>\n",
              "      <td>847.701.981-91</td>\n",
              "      <td>Margem esquerda do Rio Cuiabá.</td>\n",
              "      <td>MT</td>\n",
              "      <td>Barão de Melgaço</td>\n",
              "      <td>Cuiabá/MT</td>\n",
              "      <td>...</td>\n",
              "      <td>NaN</td>\n",
              "      <td>N</td>\n",
              "      <td>8.477020e+10</td>\n",
              "      <td>Quitado. Baixa automática</td>\n",
              "      <td>05/04/2020</td>\n",
              "      <td>-16.478889</td>\n",
              "      <td>-56.193056</td>\n",
              "      <td>NaN</td>\n",
              "      <td>4326.0</td>\n",
              "      <td>Pantanal</td>\n",
              "    </tr>\n",
              "    <tr>\n",
              "      <th>30695</th>\n",
              "      <td>438128</td>\n",
              "      <td>C</td>\n",
              "      <td>1.00</td>\n",
              "      <td>472088</td>\n",
              "      <td>Jair Storchi Pegorini</td>\n",
              "      <td>618.098.100-00</td>\n",
              "      <td>Margem esquerda do Rio vila Nova.</td>\n",
              "      <td>AP</td>\n",
              "      <td>Santana</td>\n",
              "      <td>Macapá/AP</td>\n",
              "      <td>...</td>\n",
              "      <td>NaN</td>\n",
              "      <td>N</td>\n",
              "      <td>6.180981e+10</td>\n",
              "      <td>Quitado. Baixa automática</td>\n",
              "      <td>05/04/2020</td>\n",
              "      <td>-0.018611</td>\n",
              "      <td>-51.436389</td>\n",
              "      <td>NaN</td>\n",
              "      <td>4326.0</td>\n",
              "      <td>NaN</td>\n",
              "    </tr>\n",
              "    <tr>\n",
              "      <th>28165</th>\n",
              "      <td>409380</td>\n",
              "      <td>C</td>\n",
              "      <td>50.00</td>\n",
              "      <td>499406</td>\n",
              "      <td>Anderson Antonio</td>\n",
              "      <td>389.179.202-68</td>\n",
              "      <td>Terra Indígena Massaco.</td>\n",
              "      <td>RO</td>\n",
              "      <td>Alta Floresta D'Oeste</td>\n",
              "      <td>Rolim de Moura/RO</td>\n",
              "      <td>...</td>\n",
              "      <td>NaN</td>\n",
              "      <td>D</td>\n",
              "      <td>3.891792e+10</td>\n",
              "      <td>Análise admis/mérito do recurso</td>\n",
              "      <td>28/09/2021</td>\n",
              "      <td>-12.272222</td>\n",
              "      <td>-62.450278</td>\n",
              "      <td>NaN</td>\n",
              "      <td>4326.0</td>\n",
              "      <td>NaN</td>\n",
              "    </tr>\n",
              "    <tr>\n",
              "      <th>21602</th>\n",
              "      <td>333091</td>\n",
              "      <td>C</td>\n",
              "      <td>NaN</td>\n",
              "      <td>411318</td>\n",
              "      <td>Sergio Oliveira Dias</td>\n",
              "      <td>524.275.951-87</td>\n",
              "      <td>NaN</td>\n",
              "      <td>DF</td>\n",
              "      <td>Brasília</td>\n",
              "      <td>Brasília/DF</td>\n",
              "      <td>...</td>\n",
              "      <td>NaN</td>\n",
              "      <td>N</td>\n",
              "      <td>5.242760e+10</td>\n",
              "      <td>Em cobrança judicial</td>\n",
              "      <td>28/06/2018</td>\n",
              "      <td>0.000000</td>\n",
              "      <td>0.000000</td>\n",
              "      <td>NaN</td>\n",
              "      <td>NaN</td>\n",
              "      <td>NaN</td>\n",
              "    </tr>\n",
              "  </tbody>\n",
              "</table>\n",
              "<p>77139 rows × 28 columns</p>\n",
              "</div>\n",
              "      <button class=\"colab-df-convert\" onclick=\"convertToInteractive('df-4be2c0b0-32e5-4790-a6d9-d086fa391465')\"\n",
              "              title=\"Convert this dataframe to an interactive table.\"\n",
              "              style=\"display:none;\">\n",
              "        \n",
              "  <svg xmlns=\"http://www.w3.org/2000/svg\" height=\"24px\"viewBox=\"0 0 24 24\"\n",
              "       width=\"24px\">\n",
              "    <path d=\"M0 0h24v24H0V0z\" fill=\"none\"/>\n",
              "    <path d=\"M18.56 5.44l.94 2.06.94-2.06 2.06-.94-2.06-.94-.94-2.06-.94 2.06-2.06.94zm-11 1L8.5 8.5l.94-2.06 2.06-.94-2.06-.94L8.5 2.5l-.94 2.06-2.06.94zm10 10l.94 2.06.94-2.06 2.06-.94-2.06-.94-.94-2.06-.94 2.06-2.06.94z\"/><path d=\"M17.41 7.96l-1.37-1.37c-.4-.4-.92-.59-1.43-.59-.52 0-1.04.2-1.43.59L10.3 9.45l-7.72 7.72c-.78.78-.78 2.05 0 2.83L4 21.41c.39.39.9.59 1.41.59.51 0 1.02-.2 1.41-.59l7.78-7.78 2.81-2.81c.8-.78.8-2.07 0-2.86zM5.41 20L4 18.59l7.72-7.72 1.47 1.35L5.41 20z\"/>\n",
              "  </svg>\n",
              "      </button>\n",
              "      \n",
              "  <style>\n",
              "    .colab-df-container {\n",
              "      display:flex;\n",
              "      flex-wrap:wrap;\n",
              "      gap: 12px;\n",
              "    }\n",
              "\n",
              "    .colab-df-convert {\n",
              "      background-color: #E8F0FE;\n",
              "      border: none;\n",
              "      border-radius: 50%;\n",
              "      cursor: pointer;\n",
              "      display: none;\n",
              "      fill: #1967D2;\n",
              "      height: 32px;\n",
              "      padding: 0 0 0 0;\n",
              "      width: 32px;\n",
              "    }\n",
              "\n",
              "    .colab-df-convert:hover {\n",
              "      background-color: #E2EBFA;\n",
              "      box-shadow: 0px 1px 2px rgba(60, 64, 67, 0.3), 0px 1px 3px 1px rgba(60, 64, 67, 0.15);\n",
              "      fill: #174EA6;\n",
              "    }\n",
              "\n",
              "    [theme=dark] .colab-df-convert {\n",
              "      background-color: #3B4455;\n",
              "      fill: #D2E3FC;\n",
              "    }\n",
              "\n",
              "    [theme=dark] .colab-df-convert:hover {\n",
              "      background-color: #434B5C;\n",
              "      box-shadow: 0px 1px 3px 1px rgba(0, 0, 0, 0.15);\n",
              "      filter: drop-shadow(0px 1px 2px rgba(0, 0, 0, 0.3));\n",
              "      fill: #FFFFFF;\n",
              "    }\n",
              "  </style>\n",
              "\n",
              "      <script>\n",
              "        const buttonEl =\n",
              "          document.querySelector('#df-4be2c0b0-32e5-4790-a6d9-d086fa391465 button.colab-df-convert');\n",
              "        buttonEl.style.display =\n",
              "          google.colab.kernel.accessAllowed ? 'block' : 'none';\n",
              "\n",
              "        async function convertToInteractive(key) {\n",
              "          const element = document.querySelector('#df-4be2c0b0-32e5-4790-a6d9-d086fa391465');\n",
              "          const dataTable =\n",
              "            await google.colab.kernel.invokeFunction('convertToInteractive',\n",
              "                                                     [key], {});\n",
              "          if (!dataTable) return;\n",
              "\n",
              "          const docLinkHtml = 'Like what you see? Visit the ' +\n",
              "            '<a target=\"_blank\" href=https://colab.research.google.com/notebooks/data_table.ipynb>data table notebook</a>'\n",
              "            + ' to learn more about interactive tables.';\n",
              "          element.innerHTML = '';\n",
              "          dataTable['output_type'] = 'display_data';\n",
              "          await google.colab.output.renderOutput(dataTable, element);\n",
              "          const docLink = document.createElement('div');\n",
              "          docLink.innerHTML = docLinkHtml;\n",
              "          element.appendChild(docLink);\n",
              "        }\n",
              "      </script>\n",
              "    </div>\n",
              "  </div>\n",
              "  "
            ]
          },
          "metadata": {},
          "execution_count": 26
        }
      ]
    },
    {
      "cell_type": "code",
      "source": [
        "#Importando bibliotecas de tempo\n",
        "from datetime import datetime\n",
        "from datetime import timedelta"
      ],
      "metadata": {
        "id": "gijx4WlNoB7q"
      },
      "execution_count": 27,
      "outputs": []
    },
    {
      "cell_type": "code",
      "source": [
        "# pegar a data da semana passada\n",
        "semana_passada = datetime.now() - timedelta(days=7)"
      ],
      "metadata": {
        "id": "kLAmrImNoEIL"
      },
      "execution_count": 28,
      "outputs": []
    },
    {
      "cell_type": "code",
      "source": [
        "semana_passada"
      ],
      "metadata": {
        "colab": {
          "base_uri": "https://localhost:8080/"
        },
        "id": "89lKMzIhoHQi",
        "outputId": "7c439619-dec1-4490-f324-690cc6e1629f"
      },
      "execution_count": 29,
      "outputs": [
        {
          "output_type": "execute_result",
          "data": {
            "text/plain": [
              "datetime.datetime(2022, 12, 3, 13, 0, 23, 606010)"
            ]
          },
          "metadata": {},
          "execution_count": 29
        }
      ]
    },
    {
      "cell_type": "code",
      "source": [
        "#seleciona apenas os dados da ultima semana\n",
        "ultima_semana = dados_ordenados[dados_ordenados['Data de Inserção na Lista'] > semana_passada]"
      ],
      "metadata": {
        "id": "8KhnYK4UoJhf"
      },
      "execution_count": 30,
      "outputs": []
    },
    {
      "cell_type": "code",
      "source": [
        "# visualizando os dados da ultima semana (Apenas as datas)\n",
        "ultima_semana['Data de Inserção na Lista']"
      ],
      "metadata": {
        "colab": {
          "base_uri": "https://localhost:8080/"
        },
        "id": "CF0kXGEjoMB1",
        "outputId": "a029e24c-b5ce-43f8-9a67-45cf10664728"
      },
      "execution_count": 31,
      "outputs": [
        {
          "output_type": "execute_result",
          "data": {
            "text/plain": [
              "75061   2022-12-11\n",
              "76573   2022-12-11\n",
              "75318   2022-12-11\n",
              "78715   2022-12-11\n",
              "74030   2022-12-11\n",
              "           ...    \n",
              "77803   2022-12-04\n",
              "76538   2022-12-04\n",
              "2178    2022-12-04\n",
              "2122    2022-12-04\n",
              "85      2022-12-04\n",
              "Name: Data de Inserção na Lista, Length: 159, dtype: datetime64[ns]"
            ]
          },
          "metadata": {},
          "execution_count": 31
        }
      ]
    },
    {
      "cell_type": "markdown",
      "source": [
        "**Verificando a data de inserção na lista de embargos**"
      ],
      "metadata": {
        "id": "atmFxUFrb16_"
      }
    },
    {
      "cell_type": "code",
      "source": [
        "import pandas as pd"
      ],
      "metadata": {
        "id": "tvxgWqSycZQ4"
      },
      "execution_count": 32,
      "outputs": []
    },
    {
      "cell_type": "code",
      "source": [
        "year = df[['Data de Inserção na Lista']]"
      ],
      "metadata": {
        "id": "g9zVZS6fgSWQ"
      },
      "execution_count": 33,
      "outputs": []
    },
    {
      "cell_type": "code",
      "source": [
        "# Retirar nulos apenas na coluna 'Data de Inserção na Lista'\n",
        "novos_dados = df.dropna(subset=['Data de Inserção na Lista'])"
      ],
      "metadata": {
        "id": "MgJHDHsuTfGn"
      },
      "execution_count": 34,
      "outputs": []
    },
    {
      "cell_type": "code",
      "source": [
        "year"
      ],
      "metadata": {
        "colab": {
          "base_uri": "https://localhost:8080/",
          "height": 424
        },
        "id": "OehgpSd4gyvY",
        "outputId": "dc380fc2-1706-456d-980d-b3566df244dc"
      },
      "execution_count": 35,
      "outputs": [
        {
          "output_type": "execute_result",
          "data": {
            "text/plain": [
              "      Data de Inserção na Lista\n",
              "0                    21/11/2019\n",
              "1                    25/11/2019\n",
              "2                    16/01/2020\n",
              "3                    06/12/2019\n",
              "4                    30/11/2019\n",
              "...                         ...\n",
              "80120                18/11/2022\n",
              "80121                22/03/2021\n",
              "80122                       NaN\n",
              "80123                       NaN\n",
              "80124                       NaN\n",
              "\n",
              "[80125 rows x 1 columns]"
            ],
            "text/html": [
              "\n",
              "  <div id=\"df-d663c4e5-7e39-40a3-8062-fdc3e356e7b9\">\n",
              "    <div class=\"colab-df-container\">\n",
              "      <div>\n",
              "<style scoped>\n",
              "    .dataframe tbody tr th:only-of-type {\n",
              "        vertical-align: middle;\n",
              "    }\n",
              "\n",
              "    .dataframe tbody tr th {\n",
              "        vertical-align: top;\n",
              "    }\n",
              "\n",
              "    .dataframe thead th {\n",
              "        text-align: right;\n",
              "    }\n",
              "</style>\n",
              "<table border=\"1\" class=\"dataframe\">\n",
              "  <thead>\n",
              "    <tr style=\"text-align: right;\">\n",
              "      <th></th>\n",
              "      <th>Data de Inserção na Lista</th>\n",
              "    </tr>\n",
              "  </thead>\n",
              "  <tbody>\n",
              "    <tr>\n",
              "      <th>0</th>\n",
              "      <td>21/11/2019</td>\n",
              "    </tr>\n",
              "    <tr>\n",
              "      <th>1</th>\n",
              "      <td>25/11/2019</td>\n",
              "    </tr>\n",
              "    <tr>\n",
              "      <th>2</th>\n",
              "      <td>16/01/2020</td>\n",
              "    </tr>\n",
              "    <tr>\n",
              "      <th>3</th>\n",
              "      <td>06/12/2019</td>\n",
              "    </tr>\n",
              "    <tr>\n",
              "      <th>4</th>\n",
              "      <td>30/11/2019</td>\n",
              "    </tr>\n",
              "    <tr>\n",
              "      <th>...</th>\n",
              "      <td>...</td>\n",
              "    </tr>\n",
              "    <tr>\n",
              "      <th>80120</th>\n",
              "      <td>18/11/2022</td>\n",
              "    </tr>\n",
              "    <tr>\n",
              "      <th>80121</th>\n",
              "      <td>22/03/2021</td>\n",
              "    </tr>\n",
              "    <tr>\n",
              "      <th>80122</th>\n",
              "      <td>NaN</td>\n",
              "    </tr>\n",
              "    <tr>\n",
              "      <th>80123</th>\n",
              "      <td>NaN</td>\n",
              "    </tr>\n",
              "    <tr>\n",
              "      <th>80124</th>\n",
              "      <td>NaN</td>\n",
              "    </tr>\n",
              "  </tbody>\n",
              "</table>\n",
              "<p>80125 rows × 1 columns</p>\n",
              "</div>\n",
              "      <button class=\"colab-df-convert\" onclick=\"convertToInteractive('df-d663c4e5-7e39-40a3-8062-fdc3e356e7b9')\"\n",
              "              title=\"Convert this dataframe to an interactive table.\"\n",
              "              style=\"display:none;\">\n",
              "        \n",
              "  <svg xmlns=\"http://www.w3.org/2000/svg\" height=\"24px\"viewBox=\"0 0 24 24\"\n",
              "       width=\"24px\">\n",
              "    <path d=\"M0 0h24v24H0V0z\" fill=\"none\"/>\n",
              "    <path d=\"M18.56 5.44l.94 2.06.94-2.06 2.06-.94-2.06-.94-.94-2.06-.94 2.06-2.06.94zm-11 1L8.5 8.5l.94-2.06 2.06-.94-2.06-.94L8.5 2.5l-.94 2.06-2.06.94zm10 10l.94 2.06.94-2.06 2.06-.94-2.06-.94-.94-2.06-.94 2.06-2.06.94z\"/><path d=\"M17.41 7.96l-1.37-1.37c-.4-.4-.92-.59-1.43-.59-.52 0-1.04.2-1.43.59L10.3 9.45l-7.72 7.72c-.78.78-.78 2.05 0 2.83L4 21.41c.39.39.9.59 1.41.59.51 0 1.02-.2 1.41-.59l7.78-7.78 2.81-2.81c.8-.78.8-2.07 0-2.86zM5.41 20L4 18.59l7.72-7.72 1.47 1.35L5.41 20z\"/>\n",
              "  </svg>\n",
              "      </button>\n",
              "      \n",
              "  <style>\n",
              "    .colab-df-container {\n",
              "      display:flex;\n",
              "      flex-wrap:wrap;\n",
              "      gap: 12px;\n",
              "    }\n",
              "\n",
              "    .colab-df-convert {\n",
              "      background-color: #E8F0FE;\n",
              "      border: none;\n",
              "      border-radius: 50%;\n",
              "      cursor: pointer;\n",
              "      display: none;\n",
              "      fill: #1967D2;\n",
              "      height: 32px;\n",
              "      padding: 0 0 0 0;\n",
              "      width: 32px;\n",
              "    }\n",
              "\n",
              "    .colab-df-convert:hover {\n",
              "      background-color: #E2EBFA;\n",
              "      box-shadow: 0px 1px 2px rgba(60, 64, 67, 0.3), 0px 1px 3px 1px rgba(60, 64, 67, 0.15);\n",
              "      fill: #174EA6;\n",
              "    }\n",
              "\n",
              "    [theme=dark] .colab-df-convert {\n",
              "      background-color: #3B4455;\n",
              "      fill: #D2E3FC;\n",
              "    }\n",
              "\n",
              "    [theme=dark] .colab-df-convert:hover {\n",
              "      background-color: #434B5C;\n",
              "      box-shadow: 0px 1px 3px 1px rgba(0, 0, 0, 0.15);\n",
              "      filter: drop-shadow(0px 1px 2px rgba(0, 0, 0, 0.3));\n",
              "      fill: #FFFFFF;\n",
              "    }\n",
              "  </style>\n",
              "\n",
              "      <script>\n",
              "        const buttonEl =\n",
              "          document.querySelector('#df-d663c4e5-7e39-40a3-8062-fdc3e356e7b9 button.colab-df-convert');\n",
              "        buttonEl.style.display =\n",
              "          google.colab.kernel.accessAllowed ? 'block' : 'none';\n",
              "\n",
              "        async function convertToInteractive(key) {\n",
              "          const element = document.querySelector('#df-d663c4e5-7e39-40a3-8062-fdc3e356e7b9');\n",
              "          const dataTable =\n",
              "            await google.colab.kernel.invokeFunction('convertToInteractive',\n",
              "                                                     [key], {});\n",
              "          if (!dataTable) return;\n",
              "\n",
              "          const docLinkHtml = 'Like what you see? Visit the ' +\n",
              "            '<a target=\"_blank\" href=https://colab.research.google.com/notebooks/data_table.ipynb>data table notebook</a>'\n",
              "            + ' to learn more about interactive tables.';\n",
              "          element.innerHTML = '';\n",
              "          dataTable['output_type'] = 'display_data';\n",
              "          await google.colab.output.renderOutput(dataTable, element);\n",
              "          const docLink = document.createElement('div');\n",
              "          docLink.innerHTML = docLinkHtml;\n",
              "          element.appendChild(docLink);\n",
              "        }\n",
              "      </script>\n",
              "    </div>\n",
              "  </div>\n",
              "  "
            ]
          },
          "metadata": {},
          "execution_count": 35
        }
      ]
    },
    {
      "cell_type": "markdown",
      "source": [
        "**Verificando o status e quantidade**"
      ],
      "metadata": {
        "id": "1dh9vd4Zxa8i"
      }
    },
    {
      "cell_type": "code",
      "source": [
        "df['Status'].value_counts()"
      ],
      "metadata": {
        "colab": {
          "base_uri": "https://localhost:8080/"
        },
        "id": "5TS3QJgHxZ51",
        "outputId": "713423cd-df3b-4827-d726-9879b5214344"
      },
      "execution_count": 36,
      "outputs": [
        {
          "output_type": "execute_result",
          "data": {
            "text/plain": [
              "Ajuizado                                              13341\n",
              "Quitado. Baixa automática                             10343\n",
              "Para homologação/prazo de defesa                       8901\n",
              "Lavrado                                                5305\n",
              "Notificado e aguardando pagamento/recurso              5277\n",
              "                                                      ...  \n",
              "Em DA, com valor insuficiente p/ cobrança judicial        1\n",
              "Análise do pedido de adesão(PRD)                          1\n",
              "Substit. p/débito acumulado                               1\n",
              "Pedido de defesa ao Superintendente                       1\n",
              "Baixado por cancelamento/nulidade na conciliação          1\n",
              "Name: Status, Length: 94, dtype: int64"
            ]
          },
          "metadata": {},
          "execution_count": 36
        }
      ]
    },
    {
      "cell_type": "markdown",
      "source": [
        "**Biomas com maior número de embargo**"
      ],
      "metadata": {
        "id": "4d7iOJSoUYS2"
      }
    },
    {
      "cell_type": "code",
      "source": [
        "df['Bioma'].value_counts()"
      ],
      "metadata": {
        "colab": {
          "base_uri": "https://localhost:8080/"
        },
        "id": "v_804QlgRuw7",
        "outputId": "76692327-3e33-4095-d650-dd975d0be234"
      },
      "execution_count": 37,
      "outputs": [
        {
          "output_type": "execute_result",
          "data": {
            "text/plain": [
              "Amazonia                                                                      27957\n",
              "Mata Atlantica                                                                 7337\n",
              "Cerrado                                                                        4762\n",
              "Caatinga                                                                       2921\n",
              "Costeiro e Marinho                                                             1322\n",
              "Pantanal                                                                        174\n",
              "Pampa                                                                           172\n",
              "Amazonia,Amazonia                                                               135\n",
              "Mata Atlantica,Mata Atlantica                                                   109\n",
              "Amazonia,Cerrado                                                                 95\n",
              "Costeiro e Marinho,Mata Atlantica                                                81\n",
              "Cerrado,Mata Atlantica                                                           50\n",
              "Caatinga,Costeiro e Marinho                                                      49\n",
              "Caatinga,Caatinga                                                                49\n",
              "Caatinga,Mata Atlantica                                                          36\n",
              "Amazonia,Mata Atlantica                                                          35\n",
              "Caatinga,Cerrado                                                                 30\n",
              "Cerrado,Cerrado                                                                  27\n",
              "Amazonia,Costeiro e Marinho                                                      18\n",
              "Amazonia,Cerrado,Mata Atlantica                                                  12\n",
              "Amazonia,Caatinga                                                                11\n",
              "Mata Atlantica,Mata Atlantica,Mata Atlantica                                     10\n",
              "Mata Atlantica,Mata Atlantica,Mata Atlantica,Mata Atlantica                       9\n",
              "Cerrado,Pampa                                                                     8\n",
              "Cerrado,Pantanal                                                                  7\n",
              "Amazonia,Pantanal                                                                 6\n",
              "Amazonia,Pampa                                                                    6\n",
              "Amazonia,Caatinga,Cerrado,Costeiro e Marinho,Mata Atlantica,Pampa,Pantanal        5\n",
              "Mata Atlantica,Pampa                                                              4\n",
              "Amazonia,Caatinga,Cerrado,Mata Atlantica,Pampa,Pantanal                           4\n",
              "Costeiro e Marinho,Costeiro e Marinho,Mata Atlantica,Mata Atlantica               4\n",
              "Costeiro e Marinho,Costeiro e Marinho                                             4\n",
              "Caatinga,Caatinga,Caatinga                                                        3\n",
              "Caatinga,Cerrado,Costeiro e Marinho                                               3\n",
              "Amazonia,Caatinga,Costeiro e Marinho                                              3\n",
              "Cerrado,Cerrado,Cerrado,Cerrado                                                   3\n",
              "Pampa,Pampa                                                                       3\n",
              "Amazonia,Amazonia,Amazonia                                                        3\n",
              "Caatinga,Cerrado,Mata Atlantica                                                   3\n",
              "Amazonia,Costeiro e Marinho,Mata Atlantica                                        3\n",
              "Pampa,Pampa,Pampa,Pampa                                                           2\n",
              "Cerrado,Cerrado,Mata Atlantica,Mata Atlantica                                     2\n",
              "Pantanal,Pantanal,Pantanal                                                        1\n",
              "Cerrado,Mata Atlantica,Pantanal                                                   1\n",
              "Caatinga,Costeiro e Marinho,Mata Atlantica                                        1\n",
              "Amazonia,Caatinga,Cerrado,Pantanal                                                1\n",
              "Mata Atlantica,Pantanal                                                           1\n",
              "Amazonia,Cerrado,Pampa                                                            1\n",
              "Caatinga,Costeiro e Marinho,Pantanal                                              1\n",
              "Pampa,Pampa,Pampa,Pampa,Pampa                                                     1\n",
              "Pampa,Pampa,Pampa                                                                 1\n",
              "Caatinga,Caatinga,Mata Atlantica,Mata Atlantica                                   1\n",
              "Cerrado,Costeiro e Marinho                                                        1\n",
              "Costeiro e Marinho,Costeiro e Marinho,Costeiro e Marinho                          1\n",
              "Amazonia,Caatinga,Cerrado                                                         1\n",
              "Cerrado,Cerrado,Cerrado                                                           1\n",
              "Amazonia,Amazonia,Amazonia,Amazonia                                               1\n",
              "Amazonia,Cerrado,Costeiro e Marinho                                               1\n",
              "Name: Bioma, dtype: int64"
            ]
          },
          "metadata": {},
          "execution_count": 37
        }
      ]
    },
    {
      "cell_type": "markdown",
      "source": [
        "**Criando um grafico com os 5 biomas com mais embargos**"
      ],
      "metadata": {
        "id": "5Fw3SlTKR8o-"
      }
    },
    {
      "cell_type": "code",
      "source": [
        "#criando no plotly\n",
        "import plotly.express as px\n",
        "\n",
        "# pegando os 5 primeiros \n",
        "x = df['Bioma'].value_counts()[:5]\n",
        "\n",
        "fig = px.bar(x, x=x.index, y=x.values)\n",
        "\n",
        "fig.update_layout(title_text='Quantidade de áreas embargadas por bioma')\n",
        "fig.update_xaxes(title_text='Biomas')\n",
        "fig.update_yaxes(title_text='Quantidade de áreas embargadas')\n",
        "fig.update_traces(hovertemplate='Bioma: %{x}<br>Quantidade: %{y}')\n",
        "fig.update_layout(title_x=0.5)\n",
        "fig.update_layout(template='plotly_dark')\n",
        "\n",
        "fig.show()"
      ],
      "metadata": {
        "colab": {
          "base_uri": "https://localhost:8080/",
          "height": 542
        },
        "id": "hBW06frGSGPF",
        "outputId": "15c72808-0e50-4e12-a01c-7a2b0c487c0d"
      },
      "execution_count": 38,
      "outputs": [
        {
          "output_type": "display_data",
          "data": {
            "text/html": [
              "<html>\n",
              "<head><meta charset=\"utf-8\" /></head>\n",
              "<body>\n",
              "    <div>            <script src=\"https://cdnjs.cloudflare.com/ajax/libs/mathjax/2.7.5/MathJax.js?config=TeX-AMS-MML_SVG\"></script><script type=\"text/javascript\">if (window.MathJax) {MathJax.Hub.Config({SVG: {font: \"STIX-Web\"}});}</script>                <script type=\"text/javascript\">window.PlotlyConfig = {MathJaxConfig: 'local'};</script>\n",
              "        <script src=\"https://cdn.plot.ly/plotly-2.8.3.min.js\"></script>                <div id=\"60bacc6d-51d9-429b-bdab-4eba12ba970e\" class=\"plotly-graph-div\" style=\"height:525px; width:100%;\"></div>            <script type=\"text/javascript\">                                    window.PLOTLYENV=window.PLOTLYENV || {};                                    if (document.getElementById(\"60bacc6d-51d9-429b-bdab-4eba12ba970e\")) {                    Plotly.newPlot(                        \"60bacc6d-51d9-429b-bdab-4eba12ba970e\",                        [{\"alignmentgroup\":\"True\",\"hovertemplate\":\"Bioma: %{x}<br>Quantidade: %{y}\",\"legendgroup\":\"\",\"marker\":{\"color\":\"#636efa\",\"pattern\":{\"shape\":\"\"}},\"name\":\"\",\"offsetgroup\":\"\",\"orientation\":\"v\",\"showlegend\":false,\"textposition\":\"auto\",\"x\":[\"Amazonia\",\"Mata Atlantica\",\"Cerrado\",\"Caatinga\",\"Costeiro e Marinho\"],\"xaxis\":\"x\",\"y\":[27957,7337,4762,2921,1322],\"yaxis\":\"y\",\"type\":\"bar\"}],                        {\"template\":{\"data\":{\"barpolar\":[{\"marker\":{\"line\":{\"color\":\"rgb(17,17,17)\",\"width\":0.5},\"pattern\":{\"fillmode\":\"overlay\",\"size\":10,\"solidity\":0.2}},\"type\":\"barpolar\"}],\"bar\":[{\"error_x\":{\"color\":\"#f2f5fa\"},\"error_y\":{\"color\":\"#f2f5fa\"},\"marker\":{\"line\":{\"color\":\"rgb(17,17,17)\",\"width\":0.5},\"pattern\":{\"fillmode\":\"overlay\",\"size\":10,\"solidity\":0.2}},\"type\":\"bar\"}],\"carpet\":[{\"aaxis\":{\"endlinecolor\":\"#A2B1C6\",\"gridcolor\":\"#506784\",\"linecolor\":\"#506784\",\"minorgridcolor\":\"#506784\",\"startlinecolor\":\"#A2B1C6\"},\"baxis\":{\"endlinecolor\":\"#A2B1C6\",\"gridcolor\":\"#506784\",\"linecolor\":\"#506784\",\"minorgridcolor\":\"#506784\",\"startlinecolor\":\"#A2B1C6\"},\"type\":\"carpet\"}],\"choropleth\":[{\"colorbar\":{\"outlinewidth\":0,\"ticks\":\"\"},\"type\":\"choropleth\"}],\"contourcarpet\":[{\"colorbar\":{\"outlinewidth\":0,\"ticks\":\"\"},\"type\":\"contourcarpet\"}],\"contour\":[{\"colorbar\":{\"outlinewidth\":0,\"ticks\":\"\"},\"colorscale\":[[0.0,\"#0d0887\"],[0.1111111111111111,\"#46039f\"],[0.2222222222222222,\"#7201a8\"],[0.3333333333333333,\"#9c179e\"],[0.4444444444444444,\"#bd3786\"],[0.5555555555555556,\"#d8576b\"],[0.6666666666666666,\"#ed7953\"],[0.7777777777777778,\"#fb9f3a\"],[0.8888888888888888,\"#fdca26\"],[1.0,\"#f0f921\"]],\"type\":\"contour\"}],\"heatmapgl\":[{\"colorbar\":{\"outlinewidth\":0,\"ticks\":\"\"},\"colorscale\":[[0.0,\"#0d0887\"],[0.1111111111111111,\"#46039f\"],[0.2222222222222222,\"#7201a8\"],[0.3333333333333333,\"#9c179e\"],[0.4444444444444444,\"#bd3786\"],[0.5555555555555556,\"#d8576b\"],[0.6666666666666666,\"#ed7953\"],[0.7777777777777778,\"#fb9f3a\"],[0.8888888888888888,\"#fdca26\"],[1.0,\"#f0f921\"]],\"type\":\"heatmapgl\"}],\"heatmap\":[{\"colorbar\":{\"outlinewidth\":0,\"ticks\":\"\"},\"colorscale\":[[0.0,\"#0d0887\"],[0.1111111111111111,\"#46039f\"],[0.2222222222222222,\"#7201a8\"],[0.3333333333333333,\"#9c179e\"],[0.4444444444444444,\"#bd3786\"],[0.5555555555555556,\"#d8576b\"],[0.6666666666666666,\"#ed7953\"],[0.7777777777777778,\"#fb9f3a\"],[0.8888888888888888,\"#fdca26\"],[1.0,\"#f0f921\"]],\"type\":\"heatmap\"}],\"histogram2dcontour\":[{\"colorbar\":{\"outlinewidth\":0,\"ticks\":\"\"},\"colorscale\":[[0.0,\"#0d0887\"],[0.1111111111111111,\"#46039f\"],[0.2222222222222222,\"#7201a8\"],[0.3333333333333333,\"#9c179e\"],[0.4444444444444444,\"#bd3786\"],[0.5555555555555556,\"#d8576b\"],[0.6666666666666666,\"#ed7953\"],[0.7777777777777778,\"#fb9f3a\"],[0.8888888888888888,\"#fdca26\"],[1.0,\"#f0f921\"]],\"type\":\"histogram2dcontour\"}],\"histogram2d\":[{\"colorbar\":{\"outlinewidth\":0,\"ticks\":\"\"},\"colorscale\":[[0.0,\"#0d0887\"],[0.1111111111111111,\"#46039f\"],[0.2222222222222222,\"#7201a8\"],[0.3333333333333333,\"#9c179e\"],[0.4444444444444444,\"#bd3786\"],[0.5555555555555556,\"#d8576b\"],[0.6666666666666666,\"#ed7953\"],[0.7777777777777778,\"#fb9f3a\"],[0.8888888888888888,\"#fdca26\"],[1.0,\"#f0f921\"]],\"type\":\"histogram2d\"}],\"histogram\":[{\"marker\":{\"pattern\":{\"fillmode\":\"overlay\",\"size\":10,\"solidity\":0.2}},\"type\":\"histogram\"}],\"mesh3d\":[{\"colorbar\":{\"outlinewidth\":0,\"ticks\":\"\"},\"type\":\"mesh3d\"}],\"parcoords\":[{\"line\":{\"colorbar\":{\"outlinewidth\":0,\"ticks\":\"\"}},\"type\":\"parcoords\"}],\"pie\":[{\"automargin\":true,\"type\":\"pie\"}],\"scatter3d\":[{\"line\":{\"colorbar\":{\"outlinewidth\":0,\"ticks\":\"\"}},\"marker\":{\"colorbar\":{\"outlinewidth\":0,\"ticks\":\"\"}},\"type\":\"scatter3d\"}],\"scattercarpet\":[{\"marker\":{\"colorbar\":{\"outlinewidth\":0,\"ticks\":\"\"}},\"type\":\"scattercarpet\"}],\"scattergeo\":[{\"marker\":{\"colorbar\":{\"outlinewidth\":0,\"ticks\":\"\"}},\"type\":\"scattergeo\"}],\"scattergl\":[{\"marker\":{\"line\":{\"color\":\"#283442\"}},\"type\":\"scattergl\"}],\"scattermapbox\":[{\"marker\":{\"colorbar\":{\"outlinewidth\":0,\"ticks\":\"\"}},\"type\":\"scattermapbox\"}],\"scatterpolargl\":[{\"marker\":{\"colorbar\":{\"outlinewidth\":0,\"ticks\":\"\"}},\"type\":\"scatterpolargl\"}],\"scatterpolar\":[{\"marker\":{\"colorbar\":{\"outlinewidth\":0,\"ticks\":\"\"}},\"type\":\"scatterpolar\"}],\"scatter\":[{\"marker\":{\"line\":{\"color\":\"#283442\"}},\"type\":\"scatter\"}],\"scatterternary\":[{\"marker\":{\"colorbar\":{\"outlinewidth\":0,\"ticks\":\"\"}},\"type\":\"scatterternary\"}],\"surface\":[{\"colorbar\":{\"outlinewidth\":0,\"ticks\":\"\"},\"colorscale\":[[0.0,\"#0d0887\"],[0.1111111111111111,\"#46039f\"],[0.2222222222222222,\"#7201a8\"],[0.3333333333333333,\"#9c179e\"],[0.4444444444444444,\"#bd3786\"],[0.5555555555555556,\"#d8576b\"],[0.6666666666666666,\"#ed7953\"],[0.7777777777777778,\"#fb9f3a\"],[0.8888888888888888,\"#fdca26\"],[1.0,\"#f0f921\"]],\"type\":\"surface\"}],\"table\":[{\"cells\":{\"fill\":{\"color\":\"#506784\"},\"line\":{\"color\":\"rgb(17,17,17)\"}},\"header\":{\"fill\":{\"color\":\"#2a3f5f\"},\"line\":{\"color\":\"rgb(17,17,17)\"}},\"type\":\"table\"}]},\"layout\":{\"annotationdefaults\":{\"arrowcolor\":\"#f2f5fa\",\"arrowhead\":0,\"arrowwidth\":1},\"autotypenumbers\":\"strict\",\"coloraxis\":{\"colorbar\":{\"outlinewidth\":0,\"ticks\":\"\"}},\"colorscale\":{\"diverging\":[[0,\"#8e0152\"],[0.1,\"#c51b7d\"],[0.2,\"#de77ae\"],[0.3,\"#f1b6da\"],[0.4,\"#fde0ef\"],[0.5,\"#f7f7f7\"],[0.6,\"#e6f5d0\"],[0.7,\"#b8e186\"],[0.8,\"#7fbc41\"],[0.9,\"#4d9221\"],[1,\"#276419\"]],\"sequential\":[[0.0,\"#0d0887\"],[0.1111111111111111,\"#46039f\"],[0.2222222222222222,\"#7201a8\"],[0.3333333333333333,\"#9c179e\"],[0.4444444444444444,\"#bd3786\"],[0.5555555555555556,\"#d8576b\"],[0.6666666666666666,\"#ed7953\"],[0.7777777777777778,\"#fb9f3a\"],[0.8888888888888888,\"#fdca26\"],[1.0,\"#f0f921\"]],\"sequentialminus\":[[0.0,\"#0d0887\"],[0.1111111111111111,\"#46039f\"],[0.2222222222222222,\"#7201a8\"],[0.3333333333333333,\"#9c179e\"],[0.4444444444444444,\"#bd3786\"],[0.5555555555555556,\"#d8576b\"],[0.6666666666666666,\"#ed7953\"],[0.7777777777777778,\"#fb9f3a\"],[0.8888888888888888,\"#fdca26\"],[1.0,\"#f0f921\"]]},\"colorway\":[\"#636efa\",\"#EF553B\",\"#00cc96\",\"#ab63fa\",\"#FFA15A\",\"#19d3f3\",\"#FF6692\",\"#B6E880\",\"#FF97FF\",\"#FECB52\"],\"font\":{\"color\":\"#f2f5fa\"},\"geo\":{\"bgcolor\":\"rgb(17,17,17)\",\"lakecolor\":\"rgb(17,17,17)\",\"landcolor\":\"rgb(17,17,17)\",\"showlakes\":true,\"showland\":true,\"subunitcolor\":\"#506784\"},\"hoverlabel\":{\"align\":\"left\"},\"hovermode\":\"closest\",\"mapbox\":{\"style\":\"dark\"},\"paper_bgcolor\":\"rgb(17,17,17)\",\"plot_bgcolor\":\"rgb(17,17,17)\",\"polar\":{\"angularaxis\":{\"gridcolor\":\"#506784\",\"linecolor\":\"#506784\",\"ticks\":\"\"},\"bgcolor\":\"rgb(17,17,17)\",\"radialaxis\":{\"gridcolor\":\"#506784\",\"linecolor\":\"#506784\",\"ticks\":\"\"}},\"scene\":{\"xaxis\":{\"backgroundcolor\":\"rgb(17,17,17)\",\"gridcolor\":\"#506784\",\"gridwidth\":2,\"linecolor\":\"#506784\",\"showbackground\":true,\"ticks\":\"\",\"zerolinecolor\":\"#C8D4E3\"},\"yaxis\":{\"backgroundcolor\":\"rgb(17,17,17)\",\"gridcolor\":\"#506784\",\"gridwidth\":2,\"linecolor\":\"#506784\",\"showbackground\":true,\"ticks\":\"\",\"zerolinecolor\":\"#C8D4E3\"},\"zaxis\":{\"backgroundcolor\":\"rgb(17,17,17)\",\"gridcolor\":\"#506784\",\"gridwidth\":2,\"linecolor\":\"#506784\",\"showbackground\":true,\"ticks\":\"\",\"zerolinecolor\":\"#C8D4E3\"}},\"shapedefaults\":{\"line\":{\"color\":\"#f2f5fa\"}},\"sliderdefaults\":{\"bgcolor\":\"#C8D4E3\",\"bordercolor\":\"rgb(17,17,17)\",\"borderwidth\":1,\"tickwidth\":0},\"ternary\":{\"aaxis\":{\"gridcolor\":\"#506784\",\"linecolor\":\"#506784\",\"ticks\":\"\"},\"baxis\":{\"gridcolor\":\"#506784\",\"linecolor\":\"#506784\",\"ticks\":\"\"},\"bgcolor\":\"rgb(17,17,17)\",\"caxis\":{\"gridcolor\":\"#506784\",\"linecolor\":\"#506784\",\"ticks\":\"\"}},\"title\":{\"x\":0.05},\"updatemenudefaults\":{\"bgcolor\":\"#506784\",\"borderwidth\":0},\"xaxis\":{\"automargin\":true,\"gridcolor\":\"#283442\",\"linecolor\":\"#506784\",\"ticks\":\"\",\"title\":{\"standoff\":15},\"zerolinecolor\":\"#283442\",\"zerolinewidth\":2},\"yaxis\":{\"automargin\":true,\"gridcolor\":\"#283442\",\"linecolor\":\"#506784\",\"ticks\":\"\",\"title\":{\"standoff\":15},\"zerolinecolor\":\"#283442\",\"zerolinewidth\":2}}},\"xaxis\":{\"anchor\":\"y\",\"domain\":[0.0,1.0],\"title\":{\"text\":\"Biomas\"}},\"yaxis\":{\"anchor\":\"x\",\"domain\":[0.0,1.0],\"title\":{\"text\":\"Quantidade de \\u00e1reas embargadas\"}},\"legend\":{\"tracegroupgap\":0},\"margin\":{\"t\":60},\"barmode\":\"relative\",\"title\":{\"text\":\"Quantidade de \\u00e1reas embargadas por bioma\",\"x\":0.5}},                        {\"responsive\": true}                    ).then(function(){\n",
              "                            \n",
              "var gd = document.getElementById('60bacc6d-51d9-429b-bdab-4eba12ba970e');\n",
              "var x = new MutationObserver(function (mutations, observer) {{\n",
              "        var display = window.getComputedStyle(gd).display;\n",
              "        if (!display || display === 'none') {{\n",
              "            console.log([gd, 'removed!']);\n",
              "            Plotly.purge(gd);\n",
              "            observer.disconnect();\n",
              "        }}\n",
              "}});\n",
              "\n",
              "// Listen for the removal of the full notebook cells\n",
              "var notebookContainer = gd.closest('#notebook-container');\n",
              "if (notebookContainer) {{\n",
              "    x.observe(notebookContainer, {childList: true});\n",
              "}}\n",
              "\n",
              "// Listen for the clearing of the current output cell\n",
              "var outputEl = gd.closest('.output');\n",
              "if (outputEl) {{\n",
              "    x.observe(outputEl, {childList: true});\n",
              "}}\n",
              "\n",
              "                        })                };                            </script>        </div>\n",
              "</body>\n",
              "</html>"
            ]
          },
          "metadata": {}
        }
      ]
    },
    {
      "cell_type": "markdown",
      "source": [
        "**Criando um gráfico com os números de infrações por estado**"
      ],
      "metadata": {
        "id": "cGkxPRy2rvOn"
      }
    },
    {
      "cell_type": "code",
      "source": [
        "import plotly.express as px\n",
        "\n",
        "# pegando todos os estados do Brasil\n",
        "x = df['UF Infração'].value_counts()[:27]\n",
        "\n",
        "fig = px.bar(x, x=x.index, y=x.values)\n",
        "\n",
        "fig.update_layout(title_text='Número de infração por estado')\n",
        "fig.update_xaxes(title_text='Estados')\n",
        "fig.update_yaxes(title_text='Número de infração por estado')\n",
        "fig.update_traces(hovertemplate='UF Infração: %{x}<br>Quantidade: %{y}')\n",
        "fig.update_layout(title_x=0.5)\n",
        "fig.update_layout(template='plotly_dark')\n",
        "\n",
        "fig.show()"
      ],
      "metadata": {
        "colab": {
          "base_uri": "https://localhost:8080/",
          "height": 542
        },
        "id": "6QSq_Z4crYKh",
        "outputId": "01adc450-4cc4-45d5-98e2-4a30ce73ff25"
      },
      "execution_count": 39,
      "outputs": [
        {
          "output_type": "display_data",
          "data": {
            "text/html": [
              "<html>\n",
              "<head><meta charset=\"utf-8\" /></head>\n",
              "<body>\n",
              "    <div>            <script src=\"https://cdnjs.cloudflare.com/ajax/libs/mathjax/2.7.5/MathJax.js?config=TeX-AMS-MML_SVG\"></script><script type=\"text/javascript\">if (window.MathJax) {MathJax.Hub.Config({SVG: {font: \"STIX-Web\"}});}</script>                <script type=\"text/javascript\">window.PlotlyConfig = {MathJaxConfig: 'local'};</script>\n",
              "        <script src=\"https://cdn.plot.ly/plotly-2.8.3.min.js\"></script>                <div id=\"7b3772e5-3d7a-442f-b9eb-58bdcf7313b1\" class=\"plotly-graph-div\" style=\"height:525px; width:100%;\"></div>            <script type=\"text/javascript\">                                    window.PLOTLYENV=window.PLOTLYENV || {};                                    if (document.getElementById(\"7b3772e5-3d7a-442f-b9eb-58bdcf7313b1\")) {                    Plotly.newPlot(                        \"7b3772e5-3d7a-442f-b9eb-58bdcf7313b1\",                        [{\"alignmentgroup\":\"True\",\"hovertemplate\":\"UF Infra\\u00e7\\u00e3o: %{x}<br>Quantidade: %{y}\",\"legendgroup\":\"\",\"marker\":{\"color\":\"#636efa\",\"pattern\":{\"shape\":\"\"}},\"name\":\"\",\"offsetgroup\":\"\",\"orientation\":\"v\",\"showlegend\":false,\"textposition\":\"auto\",\"x\":[\"PA\",\"RO\",\"MT\",\"AM\",\"MG\",\"BA\",\"AC\",\"GO\",\"ES\",\"SC\",\"MA\",\"TO\",\"CE\",\"RJ\",\"PR\",\"PB\",\"SP\",\"RR\",\"AL\",\"PE\",\"MS\",\"RS\",\"SE\",\"RN\",\"DF\",\"AP\",\"PI\"],\"xaxis\":\"x\",\"y\":[14450,8714,8646,5930,4201,3391,3094,2973,2625,2246,2064,2015,1936,1728,1708,1582,1508,1491,1159,957,850,830,783,759,670,510,322],\"yaxis\":\"y\",\"type\":\"bar\"}],                        {\"template\":{\"data\":{\"barpolar\":[{\"marker\":{\"line\":{\"color\":\"rgb(17,17,17)\",\"width\":0.5},\"pattern\":{\"fillmode\":\"overlay\",\"size\":10,\"solidity\":0.2}},\"type\":\"barpolar\"}],\"bar\":[{\"error_x\":{\"color\":\"#f2f5fa\"},\"error_y\":{\"color\":\"#f2f5fa\"},\"marker\":{\"line\":{\"color\":\"rgb(17,17,17)\",\"width\":0.5},\"pattern\":{\"fillmode\":\"overlay\",\"size\":10,\"solidity\":0.2}},\"type\":\"bar\"}],\"carpet\":[{\"aaxis\":{\"endlinecolor\":\"#A2B1C6\",\"gridcolor\":\"#506784\",\"linecolor\":\"#506784\",\"minorgridcolor\":\"#506784\",\"startlinecolor\":\"#A2B1C6\"},\"baxis\":{\"endlinecolor\":\"#A2B1C6\",\"gridcolor\":\"#506784\",\"linecolor\":\"#506784\",\"minorgridcolor\":\"#506784\",\"startlinecolor\":\"#A2B1C6\"},\"type\":\"carpet\"}],\"choropleth\":[{\"colorbar\":{\"outlinewidth\":0,\"ticks\":\"\"},\"type\":\"choropleth\"}],\"contourcarpet\":[{\"colorbar\":{\"outlinewidth\":0,\"ticks\":\"\"},\"type\":\"contourcarpet\"}],\"contour\":[{\"colorbar\":{\"outlinewidth\":0,\"ticks\":\"\"},\"colorscale\":[[0.0,\"#0d0887\"],[0.1111111111111111,\"#46039f\"],[0.2222222222222222,\"#7201a8\"],[0.3333333333333333,\"#9c179e\"],[0.4444444444444444,\"#bd3786\"],[0.5555555555555556,\"#d8576b\"],[0.6666666666666666,\"#ed7953\"],[0.7777777777777778,\"#fb9f3a\"],[0.8888888888888888,\"#fdca26\"],[1.0,\"#f0f921\"]],\"type\":\"contour\"}],\"heatmapgl\":[{\"colorbar\":{\"outlinewidth\":0,\"ticks\":\"\"},\"colorscale\":[[0.0,\"#0d0887\"],[0.1111111111111111,\"#46039f\"],[0.2222222222222222,\"#7201a8\"],[0.3333333333333333,\"#9c179e\"],[0.4444444444444444,\"#bd3786\"],[0.5555555555555556,\"#d8576b\"],[0.6666666666666666,\"#ed7953\"],[0.7777777777777778,\"#fb9f3a\"],[0.8888888888888888,\"#fdca26\"],[1.0,\"#f0f921\"]],\"type\":\"heatmapgl\"}],\"heatmap\":[{\"colorbar\":{\"outlinewidth\":0,\"ticks\":\"\"},\"colorscale\":[[0.0,\"#0d0887\"],[0.1111111111111111,\"#46039f\"],[0.2222222222222222,\"#7201a8\"],[0.3333333333333333,\"#9c179e\"],[0.4444444444444444,\"#bd3786\"],[0.5555555555555556,\"#d8576b\"],[0.6666666666666666,\"#ed7953\"],[0.7777777777777778,\"#fb9f3a\"],[0.8888888888888888,\"#fdca26\"],[1.0,\"#f0f921\"]],\"type\":\"heatmap\"}],\"histogram2dcontour\":[{\"colorbar\":{\"outlinewidth\":0,\"ticks\":\"\"},\"colorscale\":[[0.0,\"#0d0887\"],[0.1111111111111111,\"#46039f\"],[0.2222222222222222,\"#7201a8\"],[0.3333333333333333,\"#9c179e\"],[0.4444444444444444,\"#bd3786\"],[0.5555555555555556,\"#d8576b\"],[0.6666666666666666,\"#ed7953\"],[0.7777777777777778,\"#fb9f3a\"],[0.8888888888888888,\"#fdca26\"],[1.0,\"#f0f921\"]],\"type\":\"histogram2dcontour\"}],\"histogram2d\":[{\"colorbar\":{\"outlinewidth\":0,\"ticks\":\"\"},\"colorscale\":[[0.0,\"#0d0887\"],[0.1111111111111111,\"#46039f\"],[0.2222222222222222,\"#7201a8\"],[0.3333333333333333,\"#9c179e\"],[0.4444444444444444,\"#bd3786\"],[0.5555555555555556,\"#d8576b\"],[0.6666666666666666,\"#ed7953\"],[0.7777777777777778,\"#fb9f3a\"],[0.8888888888888888,\"#fdca26\"],[1.0,\"#f0f921\"]],\"type\":\"histogram2d\"}],\"histogram\":[{\"marker\":{\"pattern\":{\"fillmode\":\"overlay\",\"size\":10,\"solidity\":0.2}},\"type\":\"histogram\"}],\"mesh3d\":[{\"colorbar\":{\"outlinewidth\":0,\"ticks\":\"\"},\"type\":\"mesh3d\"}],\"parcoords\":[{\"line\":{\"colorbar\":{\"outlinewidth\":0,\"ticks\":\"\"}},\"type\":\"parcoords\"}],\"pie\":[{\"automargin\":true,\"type\":\"pie\"}],\"scatter3d\":[{\"line\":{\"colorbar\":{\"outlinewidth\":0,\"ticks\":\"\"}},\"marker\":{\"colorbar\":{\"outlinewidth\":0,\"ticks\":\"\"}},\"type\":\"scatter3d\"}],\"scattercarpet\":[{\"marker\":{\"colorbar\":{\"outlinewidth\":0,\"ticks\":\"\"}},\"type\":\"scattercarpet\"}],\"scattergeo\":[{\"marker\":{\"colorbar\":{\"outlinewidth\":0,\"ticks\":\"\"}},\"type\":\"scattergeo\"}],\"scattergl\":[{\"marker\":{\"line\":{\"color\":\"#283442\"}},\"type\":\"scattergl\"}],\"scattermapbox\":[{\"marker\":{\"colorbar\":{\"outlinewidth\":0,\"ticks\":\"\"}},\"type\":\"scattermapbox\"}],\"scatterpolargl\":[{\"marker\":{\"colorbar\":{\"outlinewidth\":0,\"ticks\":\"\"}},\"type\":\"scatterpolargl\"}],\"scatterpolar\":[{\"marker\":{\"colorbar\":{\"outlinewidth\":0,\"ticks\":\"\"}},\"type\":\"scatterpolar\"}],\"scatter\":[{\"marker\":{\"line\":{\"color\":\"#283442\"}},\"type\":\"scatter\"}],\"scatterternary\":[{\"marker\":{\"colorbar\":{\"outlinewidth\":0,\"ticks\":\"\"}},\"type\":\"scatterternary\"}],\"surface\":[{\"colorbar\":{\"outlinewidth\":0,\"ticks\":\"\"},\"colorscale\":[[0.0,\"#0d0887\"],[0.1111111111111111,\"#46039f\"],[0.2222222222222222,\"#7201a8\"],[0.3333333333333333,\"#9c179e\"],[0.4444444444444444,\"#bd3786\"],[0.5555555555555556,\"#d8576b\"],[0.6666666666666666,\"#ed7953\"],[0.7777777777777778,\"#fb9f3a\"],[0.8888888888888888,\"#fdca26\"],[1.0,\"#f0f921\"]],\"type\":\"surface\"}],\"table\":[{\"cells\":{\"fill\":{\"color\":\"#506784\"},\"line\":{\"color\":\"rgb(17,17,17)\"}},\"header\":{\"fill\":{\"color\":\"#2a3f5f\"},\"line\":{\"color\":\"rgb(17,17,17)\"}},\"type\":\"table\"}]},\"layout\":{\"annotationdefaults\":{\"arrowcolor\":\"#f2f5fa\",\"arrowhead\":0,\"arrowwidth\":1},\"autotypenumbers\":\"strict\",\"coloraxis\":{\"colorbar\":{\"outlinewidth\":0,\"ticks\":\"\"}},\"colorscale\":{\"diverging\":[[0,\"#8e0152\"],[0.1,\"#c51b7d\"],[0.2,\"#de77ae\"],[0.3,\"#f1b6da\"],[0.4,\"#fde0ef\"],[0.5,\"#f7f7f7\"],[0.6,\"#e6f5d0\"],[0.7,\"#b8e186\"],[0.8,\"#7fbc41\"],[0.9,\"#4d9221\"],[1,\"#276419\"]],\"sequential\":[[0.0,\"#0d0887\"],[0.1111111111111111,\"#46039f\"],[0.2222222222222222,\"#7201a8\"],[0.3333333333333333,\"#9c179e\"],[0.4444444444444444,\"#bd3786\"],[0.5555555555555556,\"#d8576b\"],[0.6666666666666666,\"#ed7953\"],[0.7777777777777778,\"#fb9f3a\"],[0.8888888888888888,\"#fdca26\"],[1.0,\"#f0f921\"]],\"sequentialminus\":[[0.0,\"#0d0887\"],[0.1111111111111111,\"#46039f\"],[0.2222222222222222,\"#7201a8\"],[0.3333333333333333,\"#9c179e\"],[0.4444444444444444,\"#bd3786\"],[0.5555555555555556,\"#d8576b\"],[0.6666666666666666,\"#ed7953\"],[0.7777777777777778,\"#fb9f3a\"],[0.8888888888888888,\"#fdca26\"],[1.0,\"#f0f921\"]]},\"colorway\":[\"#636efa\",\"#EF553B\",\"#00cc96\",\"#ab63fa\",\"#FFA15A\",\"#19d3f3\",\"#FF6692\",\"#B6E880\",\"#FF97FF\",\"#FECB52\"],\"font\":{\"color\":\"#f2f5fa\"},\"geo\":{\"bgcolor\":\"rgb(17,17,17)\",\"lakecolor\":\"rgb(17,17,17)\",\"landcolor\":\"rgb(17,17,17)\",\"showlakes\":true,\"showland\":true,\"subunitcolor\":\"#506784\"},\"hoverlabel\":{\"align\":\"left\"},\"hovermode\":\"closest\",\"mapbox\":{\"style\":\"dark\"},\"paper_bgcolor\":\"rgb(17,17,17)\",\"plot_bgcolor\":\"rgb(17,17,17)\",\"polar\":{\"angularaxis\":{\"gridcolor\":\"#506784\",\"linecolor\":\"#506784\",\"ticks\":\"\"},\"bgcolor\":\"rgb(17,17,17)\",\"radialaxis\":{\"gridcolor\":\"#506784\",\"linecolor\":\"#506784\",\"ticks\":\"\"}},\"scene\":{\"xaxis\":{\"backgroundcolor\":\"rgb(17,17,17)\",\"gridcolor\":\"#506784\",\"gridwidth\":2,\"linecolor\":\"#506784\",\"showbackground\":true,\"ticks\":\"\",\"zerolinecolor\":\"#C8D4E3\"},\"yaxis\":{\"backgroundcolor\":\"rgb(17,17,17)\",\"gridcolor\":\"#506784\",\"gridwidth\":2,\"linecolor\":\"#506784\",\"showbackground\":true,\"ticks\":\"\",\"zerolinecolor\":\"#C8D4E3\"},\"zaxis\":{\"backgroundcolor\":\"rgb(17,17,17)\",\"gridcolor\":\"#506784\",\"gridwidth\":2,\"linecolor\":\"#506784\",\"showbackground\":true,\"ticks\":\"\",\"zerolinecolor\":\"#C8D4E3\"}},\"shapedefaults\":{\"line\":{\"color\":\"#f2f5fa\"}},\"sliderdefaults\":{\"bgcolor\":\"#C8D4E3\",\"bordercolor\":\"rgb(17,17,17)\",\"borderwidth\":1,\"tickwidth\":0},\"ternary\":{\"aaxis\":{\"gridcolor\":\"#506784\",\"linecolor\":\"#506784\",\"ticks\":\"\"},\"baxis\":{\"gridcolor\":\"#506784\",\"linecolor\":\"#506784\",\"ticks\":\"\"},\"bgcolor\":\"rgb(17,17,17)\",\"caxis\":{\"gridcolor\":\"#506784\",\"linecolor\":\"#506784\",\"ticks\":\"\"}},\"title\":{\"x\":0.05},\"updatemenudefaults\":{\"bgcolor\":\"#506784\",\"borderwidth\":0},\"xaxis\":{\"automargin\":true,\"gridcolor\":\"#283442\",\"linecolor\":\"#506784\",\"ticks\":\"\",\"title\":{\"standoff\":15},\"zerolinecolor\":\"#283442\",\"zerolinewidth\":2},\"yaxis\":{\"automargin\":true,\"gridcolor\":\"#283442\",\"linecolor\":\"#506784\",\"ticks\":\"\",\"title\":{\"standoff\":15},\"zerolinecolor\":\"#283442\",\"zerolinewidth\":2}}},\"xaxis\":{\"anchor\":\"y\",\"domain\":[0.0,1.0],\"title\":{\"text\":\"Estados\"}},\"yaxis\":{\"anchor\":\"x\",\"domain\":[0.0,1.0],\"title\":{\"text\":\"N\\u00famero de infra\\u00e7\\u00e3o por estado\"}},\"legend\":{\"tracegroupgap\":0},\"margin\":{\"t\":60},\"barmode\":\"relative\",\"title\":{\"text\":\"N\\u00famero de infra\\u00e7\\u00e3o por estado\",\"x\":0.5}},                        {\"responsive\": true}                    ).then(function(){\n",
              "                            \n",
              "var gd = document.getElementById('7b3772e5-3d7a-442f-b9eb-58bdcf7313b1');\n",
              "var x = new MutationObserver(function (mutations, observer) {{\n",
              "        var display = window.getComputedStyle(gd).display;\n",
              "        if (!display || display === 'none') {{\n",
              "            console.log([gd, 'removed!']);\n",
              "            Plotly.purge(gd);\n",
              "            observer.disconnect();\n",
              "        }}\n",
              "}});\n",
              "\n",
              "// Listen for the removal of the full notebook cells\n",
              "var notebookContainer = gd.closest('#notebook-container');\n",
              "if (notebookContainer) {{\n",
              "    x.observe(notebookContainer, {childList: true});\n",
              "}}\n",
              "\n",
              "// Listen for the clearing of the current output cell\n",
              "var outputEl = gd.closest('.output');\n",
              "if (outputEl) {{\n",
              "    x.observe(outputEl, {childList: true});\n",
              "}}\n",
              "\n",
              "                        })                };                            </script>        </div>\n",
              "</body>\n",
              "</html>"
            ]
          },
          "metadata": {}
        }
      ]
    },
    {
      "cell_type": "markdown",
      "source": [
        "**Criando um gráfico com os status dos embargos**"
      ],
      "metadata": {
        "id": "BbPnDCkzzeko"
      }
    },
    {
      "cell_type": "code",
      "source": [
        "import plotly.express as px\n",
        "\n",
        "# pegando os 5 primeiros status de embargo com maior número\n",
        "x = df['Status'].value_counts()[:5]\n",
        "\n",
        "fig = px.bar(x, x=x.index, y=x.values)\n",
        "\n",
        "fig.update_layout(title_text='Andamento do embargo')\n",
        "fig.update_xaxes(title_text='Status')\n",
        "fig.update_yaxes(title_text='Andamento do embargo')\n",
        "fig.update_traces(hovertemplate='Bioma: %{x}<br>Quantidade: %{y}')\n",
        "fig.update_layout(title_x=0.5)\n",
        "fig.update_layout(template='plotly_dark')\n",
        "\n",
        "fig.show()"
      ],
      "metadata": {
        "colab": {
          "base_uri": "https://localhost:8080/",
          "height": 542
        },
        "id": "wlDl606pzAM-",
        "outputId": "9d75d2d6-0705-4ca8-a069-e97ac38ad31b"
      },
      "execution_count": 40,
      "outputs": [
        {
          "output_type": "display_data",
          "data": {
            "text/html": [
              "<html>\n",
              "<head><meta charset=\"utf-8\" /></head>\n",
              "<body>\n",
              "    <div>            <script src=\"https://cdnjs.cloudflare.com/ajax/libs/mathjax/2.7.5/MathJax.js?config=TeX-AMS-MML_SVG\"></script><script type=\"text/javascript\">if (window.MathJax) {MathJax.Hub.Config({SVG: {font: \"STIX-Web\"}});}</script>                <script type=\"text/javascript\">window.PlotlyConfig = {MathJaxConfig: 'local'};</script>\n",
              "        <script src=\"https://cdn.plot.ly/plotly-2.8.3.min.js\"></script>                <div id=\"16c6c33d-04df-4ec9-b3f4-1affb737994e\" class=\"plotly-graph-div\" style=\"height:525px; width:100%;\"></div>            <script type=\"text/javascript\">                                    window.PLOTLYENV=window.PLOTLYENV || {};                                    if (document.getElementById(\"16c6c33d-04df-4ec9-b3f4-1affb737994e\")) {                    Plotly.newPlot(                        \"16c6c33d-04df-4ec9-b3f4-1affb737994e\",                        [{\"alignmentgroup\":\"True\",\"hovertemplate\":\"Bioma: %{x}<br>Quantidade: %{y}\",\"legendgroup\":\"\",\"marker\":{\"color\":\"#636efa\",\"pattern\":{\"shape\":\"\"}},\"name\":\"\",\"offsetgroup\":\"\",\"orientation\":\"v\",\"showlegend\":false,\"textposition\":\"auto\",\"x\":[\"Ajuizado\",\"Quitado. Baixa autom\\u00e1tica\",\"Para homologa\\u00e7\\u00e3o/prazo de defesa\",\"Lavrado\",\"Notificado e aguardando pagamento/recurso\"],\"xaxis\":\"x\",\"y\":[13341,10343,8901,5305,5277],\"yaxis\":\"y\",\"type\":\"bar\"}],                        {\"template\":{\"data\":{\"barpolar\":[{\"marker\":{\"line\":{\"color\":\"rgb(17,17,17)\",\"width\":0.5},\"pattern\":{\"fillmode\":\"overlay\",\"size\":10,\"solidity\":0.2}},\"type\":\"barpolar\"}],\"bar\":[{\"error_x\":{\"color\":\"#f2f5fa\"},\"error_y\":{\"color\":\"#f2f5fa\"},\"marker\":{\"line\":{\"color\":\"rgb(17,17,17)\",\"width\":0.5},\"pattern\":{\"fillmode\":\"overlay\",\"size\":10,\"solidity\":0.2}},\"type\":\"bar\"}],\"carpet\":[{\"aaxis\":{\"endlinecolor\":\"#A2B1C6\",\"gridcolor\":\"#506784\",\"linecolor\":\"#506784\",\"minorgridcolor\":\"#506784\",\"startlinecolor\":\"#A2B1C6\"},\"baxis\":{\"endlinecolor\":\"#A2B1C6\",\"gridcolor\":\"#506784\",\"linecolor\":\"#506784\",\"minorgridcolor\":\"#506784\",\"startlinecolor\":\"#A2B1C6\"},\"type\":\"carpet\"}],\"choropleth\":[{\"colorbar\":{\"outlinewidth\":0,\"ticks\":\"\"},\"type\":\"choropleth\"}],\"contourcarpet\":[{\"colorbar\":{\"outlinewidth\":0,\"ticks\":\"\"},\"type\":\"contourcarpet\"}],\"contour\":[{\"colorbar\":{\"outlinewidth\":0,\"ticks\":\"\"},\"colorscale\":[[0.0,\"#0d0887\"],[0.1111111111111111,\"#46039f\"],[0.2222222222222222,\"#7201a8\"],[0.3333333333333333,\"#9c179e\"],[0.4444444444444444,\"#bd3786\"],[0.5555555555555556,\"#d8576b\"],[0.6666666666666666,\"#ed7953\"],[0.7777777777777778,\"#fb9f3a\"],[0.8888888888888888,\"#fdca26\"],[1.0,\"#f0f921\"]],\"type\":\"contour\"}],\"heatmapgl\":[{\"colorbar\":{\"outlinewidth\":0,\"ticks\":\"\"},\"colorscale\":[[0.0,\"#0d0887\"],[0.1111111111111111,\"#46039f\"],[0.2222222222222222,\"#7201a8\"],[0.3333333333333333,\"#9c179e\"],[0.4444444444444444,\"#bd3786\"],[0.5555555555555556,\"#d8576b\"],[0.6666666666666666,\"#ed7953\"],[0.7777777777777778,\"#fb9f3a\"],[0.8888888888888888,\"#fdca26\"],[1.0,\"#f0f921\"]],\"type\":\"heatmapgl\"}],\"heatmap\":[{\"colorbar\":{\"outlinewidth\":0,\"ticks\":\"\"},\"colorscale\":[[0.0,\"#0d0887\"],[0.1111111111111111,\"#46039f\"],[0.2222222222222222,\"#7201a8\"],[0.3333333333333333,\"#9c179e\"],[0.4444444444444444,\"#bd3786\"],[0.5555555555555556,\"#d8576b\"],[0.6666666666666666,\"#ed7953\"],[0.7777777777777778,\"#fb9f3a\"],[0.8888888888888888,\"#fdca26\"],[1.0,\"#f0f921\"]],\"type\":\"heatmap\"}],\"histogram2dcontour\":[{\"colorbar\":{\"outlinewidth\":0,\"ticks\":\"\"},\"colorscale\":[[0.0,\"#0d0887\"],[0.1111111111111111,\"#46039f\"],[0.2222222222222222,\"#7201a8\"],[0.3333333333333333,\"#9c179e\"],[0.4444444444444444,\"#bd3786\"],[0.5555555555555556,\"#d8576b\"],[0.6666666666666666,\"#ed7953\"],[0.7777777777777778,\"#fb9f3a\"],[0.8888888888888888,\"#fdca26\"],[1.0,\"#f0f921\"]],\"type\":\"histogram2dcontour\"}],\"histogram2d\":[{\"colorbar\":{\"outlinewidth\":0,\"ticks\":\"\"},\"colorscale\":[[0.0,\"#0d0887\"],[0.1111111111111111,\"#46039f\"],[0.2222222222222222,\"#7201a8\"],[0.3333333333333333,\"#9c179e\"],[0.4444444444444444,\"#bd3786\"],[0.5555555555555556,\"#d8576b\"],[0.6666666666666666,\"#ed7953\"],[0.7777777777777778,\"#fb9f3a\"],[0.8888888888888888,\"#fdca26\"],[1.0,\"#f0f921\"]],\"type\":\"histogram2d\"}],\"histogram\":[{\"marker\":{\"pattern\":{\"fillmode\":\"overlay\",\"size\":10,\"solidity\":0.2}},\"type\":\"histogram\"}],\"mesh3d\":[{\"colorbar\":{\"outlinewidth\":0,\"ticks\":\"\"},\"type\":\"mesh3d\"}],\"parcoords\":[{\"line\":{\"colorbar\":{\"outlinewidth\":0,\"ticks\":\"\"}},\"type\":\"parcoords\"}],\"pie\":[{\"automargin\":true,\"type\":\"pie\"}],\"scatter3d\":[{\"line\":{\"colorbar\":{\"outlinewidth\":0,\"ticks\":\"\"}},\"marker\":{\"colorbar\":{\"outlinewidth\":0,\"ticks\":\"\"}},\"type\":\"scatter3d\"}],\"scattercarpet\":[{\"marker\":{\"colorbar\":{\"outlinewidth\":0,\"ticks\":\"\"}},\"type\":\"scattercarpet\"}],\"scattergeo\":[{\"marker\":{\"colorbar\":{\"outlinewidth\":0,\"ticks\":\"\"}},\"type\":\"scattergeo\"}],\"scattergl\":[{\"marker\":{\"line\":{\"color\":\"#283442\"}},\"type\":\"scattergl\"}],\"scattermapbox\":[{\"marker\":{\"colorbar\":{\"outlinewidth\":0,\"ticks\":\"\"}},\"type\":\"scattermapbox\"}],\"scatterpolargl\":[{\"marker\":{\"colorbar\":{\"outlinewidth\":0,\"ticks\":\"\"}},\"type\":\"scatterpolargl\"}],\"scatterpolar\":[{\"marker\":{\"colorbar\":{\"outlinewidth\":0,\"ticks\":\"\"}},\"type\":\"scatterpolar\"}],\"scatter\":[{\"marker\":{\"line\":{\"color\":\"#283442\"}},\"type\":\"scatter\"}],\"scatterternary\":[{\"marker\":{\"colorbar\":{\"outlinewidth\":0,\"ticks\":\"\"}},\"type\":\"scatterternary\"}],\"surface\":[{\"colorbar\":{\"outlinewidth\":0,\"ticks\":\"\"},\"colorscale\":[[0.0,\"#0d0887\"],[0.1111111111111111,\"#46039f\"],[0.2222222222222222,\"#7201a8\"],[0.3333333333333333,\"#9c179e\"],[0.4444444444444444,\"#bd3786\"],[0.5555555555555556,\"#d8576b\"],[0.6666666666666666,\"#ed7953\"],[0.7777777777777778,\"#fb9f3a\"],[0.8888888888888888,\"#fdca26\"],[1.0,\"#f0f921\"]],\"type\":\"surface\"}],\"table\":[{\"cells\":{\"fill\":{\"color\":\"#506784\"},\"line\":{\"color\":\"rgb(17,17,17)\"}},\"header\":{\"fill\":{\"color\":\"#2a3f5f\"},\"line\":{\"color\":\"rgb(17,17,17)\"}},\"type\":\"table\"}]},\"layout\":{\"annotationdefaults\":{\"arrowcolor\":\"#f2f5fa\",\"arrowhead\":0,\"arrowwidth\":1},\"autotypenumbers\":\"strict\",\"coloraxis\":{\"colorbar\":{\"outlinewidth\":0,\"ticks\":\"\"}},\"colorscale\":{\"diverging\":[[0,\"#8e0152\"],[0.1,\"#c51b7d\"],[0.2,\"#de77ae\"],[0.3,\"#f1b6da\"],[0.4,\"#fde0ef\"],[0.5,\"#f7f7f7\"],[0.6,\"#e6f5d0\"],[0.7,\"#b8e186\"],[0.8,\"#7fbc41\"],[0.9,\"#4d9221\"],[1,\"#276419\"]],\"sequential\":[[0.0,\"#0d0887\"],[0.1111111111111111,\"#46039f\"],[0.2222222222222222,\"#7201a8\"],[0.3333333333333333,\"#9c179e\"],[0.4444444444444444,\"#bd3786\"],[0.5555555555555556,\"#d8576b\"],[0.6666666666666666,\"#ed7953\"],[0.7777777777777778,\"#fb9f3a\"],[0.8888888888888888,\"#fdca26\"],[1.0,\"#f0f921\"]],\"sequentialminus\":[[0.0,\"#0d0887\"],[0.1111111111111111,\"#46039f\"],[0.2222222222222222,\"#7201a8\"],[0.3333333333333333,\"#9c179e\"],[0.4444444444444444,\"#bd3786\"],[0.5555555555555556,\"#d8576b\"],[0.6666666666666666,\"#ed7953\"],[0.7777777777777778,\"#fb9f3a\"],[0.8888888888888888,\"#fdca26\"],[1.0,\"#f0f921\"]]},\"colorway\":[\"#636efa\",\"#EF553B\",\"#00cc96\",\"#ab63fa\",\"#FFA15A\",\"#19d3f3\",\"#FF6692\",\"#B6E880\",\"#FF97FF\",\"#FECB52\"],\"font\":{\"color\":\"#f2f5fa\"},\"geo\":{\"bgcolor\":\"rgb(17,17,17)\",\"lakecolor\":\"rgb(17,17,17)\",\"landcolor\":\"rgb(17,17,17)\",\"showlakes\":true,\"showland\":true,\"subunitcolor\":\"#506784\"},\"hoverlabel\":{\"align\":\"left\"},\"hovermode\":\"closest\",\"mapbox\":{\"style\":\"dark\"},\"paper_bgcolor\":\"rgb(17,17,17)\",\"plot_bgcolor\":\"rgb(17,17,17)\",\"polar\":{\"angularaxis\":{\"gridcolor\":\"#506784\",\"linecolor\":\"#506784\",\"ticks\":\"\"},\"bgcolor\":\"rgb(17,17,17)\",\"radialaxis\":{\"gridcolor\":\"#506784\",\"linecolor\":\"#506784\",\"ticks\":\"\"}},\"scene\":{\"xaxis\":{\"backgroundcolor\":\"rgb(17,17,17)\",\"gridcolor\":\"#506784\",\"gridwidth\":2,\"linecolor\":\"#506784\",\"showbackground\":true,\"ticks\":\"\",\"zerolinecolor\":\"#C8D4E3\"},\"yaxis\":{\"backgroundcolor\":\"rgb(17,17,17)\",\"gridcolor\":\"#506784\",\"gridwidth\":2,\"linecolor\":\"#506784\",\"showbackground\":true,\"ticks\":\"\",\"zerolinecolor\":\"#C8D4E3\"},\"zaxis\":{\"backgroundcolor\":\"rgb(17,17,17)\",\"gridcolor\":\"#506784\",\"gridwidth\":2,\"linecolor\":\"#506784\",\"showbackground\":true,\"ticks\":\"\",\"zerolinecolor\":\"#C8D4E3\"}},\"shapedefaults\":{\"line\":{\"color\":\"#f2f5fa\"}},\"sliderdefaults\":{\"bgcolor\":\"#C8D4E3\",\"bordercolor\":\"rgb(17,17,17)\",\"borderwidth\":1,\"tickwidth\":0},\"ternary\":{\"aaxis\":{\"gridcolor\":\"#506784\",\"linecolor\":\"#506784\",\"ticks\":\"\"},\"baxis\":{\"gridcolor\":\"#506784\",\"linecolor\":\"#506784\",\"ticks\":\"\"},\"bgcolor\":\"rgb(17,17,17)\",\"caxis\":{\"gridcolor\":\"#506784\",\"linecolor\":\"#506784\",\"ticks\":\"\"}},\"title\":{\"x\":0.05},\"updatemenudefaults\":{\"bgcolor\":\"#506784\",\"borderwidth\":0},\"xaxis\":{\"automargin\":true,\"gridcolor\":\"#283442\",\"linecolor\":\"#506784\",\"ticks\":\"\",\"title\":{\"standoff\":15},\"zerolinecolor\":\"#283442\",\"zerolinewidth\":2},\"yaxis\":{\"automargin\":true,\"gridcolor\":\"#283442\",\"linecolor\":\"#506784\",\"ticks\":\"\",\"title\":{\"standoff\":15},\"zerolinecolor\":\"#283442\",\"zerolinewidth\":2}}},\"xaxis\":{\"anchor\":\"y\",\"domain\":[0.0,1.0],\"title\":{\"text\":\"Status\"}},\"yaxis\":{\"anchor\":\"x\",\"domain\":[0.0,1.0],\"title\":{\"text\":\"Andamento do embargo\"}},\"legend\":{\"tracegroupgap\":0},\"margin\":{\"t\":60},\"barmode\":\"relative\",\"title\":{\"text\":\"Andamento do embargo\",\"x\":0.5}},                        {\"responsive\": true}                    ).then(function(){\n",
              "                            \n",
              "var gd = document.getElementById('16c6c33d-04df-4ec9-b3f4-1affb737994e');\n",
              "var x = new MutationObserver(function (mutations, observer) {{\n",
              "        var display = window.getComputedStyle(gd).display;\n",
              "        if (!display || display === 'none') {{\n",
              "            console.log([gd, 'removed!']);\n",
              "            Plotly.purge(gd);\n",
              "            observer.disconnect();\n",
              "        }}\n",
              "}});\n",
              "\n",
              "// Listen for the removal of the full notebook cells\n",
              "var notebookContainer = gd.closest('#notebook-container');\n",
              "if (notebookContainer) {{\n",
              "    x.observe(notebookContainer, {childList: true});\n",
              "}}\n",
              "\n",
              "// Listen for the clearing of the current output cell\n",
              "var outputEl = gd.closest('.output');\n",
              "if (outputEl) {{\n",
              "    x.observe(outputEl, {childList: true});\n",
              "}}\n",
              "\n",
              "                        })                };                            </script>        </div>\n",
              "</body>\n",
              "</html>"
            ]
          },
          "metadata": {}
        }
      ]
    }
  ]
}